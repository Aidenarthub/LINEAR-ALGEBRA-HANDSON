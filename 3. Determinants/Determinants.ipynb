{
 "cells": [
  {
   "cell_type": "markdown",
   "id": "db15c1a6-732c-447d-a00d-91b72665d311",
   "metadata": {},
   "source": [
    "## Determinants\n",
    "\n",
    "#### Definition of Determinants\n",
    "The **determinant** is a scalar value that can be computed from the elements of a square matrix. It provides important information about the matrix, such as whether the matrix is invertible (non-zero determinant) or singular (zero determinant). Determinants are mainly used in solving systems of linear equations, finding inverses of matrices, and understanding geometric properties like area and volume transformations.\n"
   ]
  },
  {
   "cell_type": "markdown",
   "id": "d3cc74b5-70a7-4cd5-854a-e804f806899d",
   "metadata": {},
   "source": [
    "\n",
    "## Minor of an Element\n",
    "\n",
    "The **minor** of an element \\( a_{ij} \\) of a matrix is the determinant of the matrix that remains after deleting the \\( i \\)-th row and the \\( j \\)-th column from the original matrix. It is used as part of the process to find determinants of larger matrices.\n",
    "\n",
    "### How to Calculate the Minor:\n",
    "For a matrix \\( A \\), the **minor** of the element at position \\( (i,j) \\) is denoted as \\( M_{ij} \\), and it is the determinant of the submatrix obtained by removing the \\( i \\)-th row and \\( j \\)-th column.\n",
    "\n",
    "For example, given a 3x3 matrix \\( A \\):\n",
    "\\[\n",
    "A = \\begin{pmatrix}\n",
    "a_{11} & a_{12} & a_{13} \\\\\n",
    "a_{21} & a_{22} & a_{23} \\\\\n",
    "a_{31} & a_{32} & a_{33}\n",
    "\\end{pmatrix}\n",
    "\\]\n",
    "The minor of element \\( a_{11} \\) is the determinant of the 2x2 submatrix:\n",
    "\\[\n",
    "M_{11} = \\det \\begin{pmatrix}\n",
    "a_{22} & a_{23} \\\\\n",
    "a_{32} & a_{33}\n",
    "\\end{pmatrix}\n",
    "\n",
    "\n",
    "---\n",
    "\n",
    "## Cofactor of an Element\n",
    "\n",
    "The **cofactor** of an element \\( a_{ij} \\) is obtained by multiplying the **minor** of that element by \\( (-1)^{i+j} \\). The cofactor adjusts the sign of the minor based on the position of the element within the matrix.\n",
    "\n",
    "### Formula for Cofactor:\n",
    "The cofactor \\( C_{ij} \\) of an element at position \\( (i,j) \\) is given by:\n",
    "\\[\n",
    "C_{ij} = (-1)^{i+j}  M_{ij}\n",
    "\\]\n",
    "Where \\( M_{ij} \\) is the minor of the element.\n",
    "\n",
    "\n",
    "#### FOR MORE CLARITY FOR FOR PDF BOOK\n",
    "---\n",
    "\n"
   ]
  },
  {
   "cell_type": "code",
   "execution_count": 3,
   "id": "02e584c3-87d5-40f5-9675-90e4c286ed42",
   "metadata": {},
   "outputs": [],
   "source": [
    "import numpy as np"
   ]
  },
  {
   "cell_type": "code",
   "execution_count": 4,
   "id": "3a668fad-72d6-4347-9bf1-545784cc4446",
   "metadata": {},
   "outputs": [],
   "source": [
    "A=np.array([[1,0,-2],\n",
    "           [3,-1,2],\n",
    "           [4,5,6]])"
   ]
  },
  {
   "cell_type": "code",
   "execution_count": 5,
   "id": "4b35b13b-66a2-4eb4-8248-5190d88ec14e",
   "metadata": {},
   "outputs": [
    {
     "data": {
      "text/plain": [
       "array([[ 1,  0, -2],\n",
       "       [ 3, -1,  2],\n",
       "       [ 4,  5,  6]])"
      ]
     },
     "execution_count": 5,
     "metadata": {},
     "output_type": "execute_result"
    }
   ],
   "source": [
    "A"
   ]
  },
  {
   "cell_type": "code",
   "execution_count": 6,
   "id": "85888dee-1b87-42d7-af17-55dc1eec823f",
   "metadata": {},
   "outputs": [
    {
     "data": {
      "text/plain": [
       "-53.999999999999986"
      ]
     },
     "execution_count": 6,
     "metadata": {},
     "output_type": "execute_result"
    }
   ],
   "source": [
    "# function for calculate the determinant\n",
    "np.linalg.det(A)"
   ]
  },
  {
   "cell_type": "markdown",
   "id": "4e035f5e-5723-43a9-b8be-4302d2ea93cd",
   "metadata": {},
   "source": [
    "## Properties of Determinants"
   ]
  },
  {
   "cell_type": "markdown",
   "id": "a6e0ac86-25dd-41f7-a519-46034a45a179",
   "metadata": {},
   "source": [
    "##### 1. If each element of a row (or column) of a square matrix is zero, then the determinant of that matrix is zero"
   ]
  },
  {
   "cell_type": "code",
   "execution_count": 9,
   "id": "7b01503e-0909-48be-863f-a924c94c9899",
   "metadata": {},
   "outputs": [
    {
     "data": {
      "text/plain": [
       "0.0"
      ]
     },
     "execution_count": 9,
     "metadata": {},
     "output_type": "execute_result"
    }
   ],
   "source": [
    "A=np.array([[0,0,0],\n",
    "           [3,-1,2],\n",
    "           [4,5,6]])\n",
    "np.linalg.det(A)"
   ]
  },
  {
   "cell_type": "code",
   "execution_count": 10,
   "id": "52a47ec8-d351-4711-a3a7-1fd7c78c73ad",
   "metadata": {},
   "outputs": [
    {
     "data": {
      "text/plain": [
       "0.0"
      ]
     },
     "execution_count": 10,
     "metadata": {},
     "output_type": "execute_result"
    }
   ],
   "source": [
    "A=np.array([[0,5,6],\n",
    "           [0,-1,2],\n",
    "           [0,5,6]])\n",
    "np.linalg.det(A)"
   ]
  },
  {
   "cell_type": "markdown",
   "id": "7c9eee17-2ccf-4420-a1c8-51ebc5665479",
   "metadata": {},
   "source": [
    "##### 2. If two rows(or columns) of a square matrix are interchanged, then the sign of the determinant changes"
   ]
  },
  {
   "cell_type": "code",
   "execution_count": 12,
   "id": "63a6b6a6-ccbc-4430-9790-e0f93b02c80e",
   "metadata": {},
   "outputs": [
    {
     "data": {
      "text/plain": [
       "-53.999999999999986"
      ]
     },
     "execution_count": 12,
     "metadata": {},
     "output_type": "execute_result"
    }
   ],
   "source": [
    "A=np.array([[1,0,-2],\n",
    "           [3,-1,2],\n",
    "           [4,5,6]])\n",
    "np.linalg.det(A)"
   ]
  },
  {
   "cell_type": "code",
   "execution_count": 13,
   "id": "4f0bdf77-e5cb-4886-a3cd-99ad6af4a057",
   "metadata": {},
   "outputs": [
    {
     "data": {
      "text/plain": [
       "53.999999999999986"
      ]
     },
     "execution_count": 13,
     "metadata": {},
     "output_type": "execute_result"
    }
   ],
   "source": [
    "A=np.array([[3,-1,2],\n",
    "            [1,0,-2],\n",
    "           [4,5,6]])\n",
    "np.linalg.det(A)"
   ]
  },
  {
   "cell_type": "markdown",
   "id": "2f34bca9-7716-4772-b40c-9e45e41f013d",
   "metadata": {},
   "source": [
    "##### 3. If each element of a row(or column) of a square matrix is multiplied by a number k, then the determinant of the matrix obtained is k times the determinant of the given matrix."
   ]
  },
  {
   "cell_type": "code",
   "execution_count": 15,
   "id": "551fa6a9-d301-41df-8e8b-f35480289889",
   "metadata": {},
   "outputs": [],
   "source": [
    "A=np.arange(1,10).reshape(3,3)"
   ]
  },
  {
   "cell_type": "code",
   "execution_count": 16,
   "id": "6cbad313-947b-40d6-864d-412c386d8df7",
   "metadata": {},
   "outputs": [
    {
     "data": {
      "text/plain": [
       "array([[1, 2, 3],\n",
       "       [4, 5, 6],\n",
       "       [7, 8, 9]])"
      ]
     },
     "execution_count": 16,
     "metadata": {},
     "output_type": "execute_result"
    }
   ],
   "source": [
    "A"
   ]
  },
  {
   "cell_type": "code",
   "execution_count": 20,
   "id": "cf50590c-40dd-4f0a-bf06-7ef1fd3f87ec",
   "metadata": {},
   "outputs": [],
   "source": [
    "Ak=np.array([[2*1,2,3],\n",
    "            [2*4,5,6],\n",
    "            [2*7, 8, 9]])"
   ]
  },
  {
   "cell_type": "code",
   "execution_count": 26,
   "id": "e6e5afc4-305f-4e96-adf9-e3ce5a6f82d3",
   "metadata": {},
   "outputs": [
    {
     "data": {
      "text/plain": [
       "-1.9032394707859917e-15"
      ]
     },
     "execution_count": 26,
     "metadata": {},
     "output_type": "execute_result"
    }
   ],
   "source": [
    "np.linalg.det(Ak)"
   ]
  },
  {
   "cell_type": "code",
   "execution_count": 30,
   "id": "2560ca07-23df-4893-803c-9fc2579f926d",
   "metadata": {},
   "outputs": [
    {
     "data": {
      "text/plain": [
       "-1.903239470785988e-15"
      ]
     },
     "execution_count": 30,
     "metadata": {},
     "output_type": "execute_result"
    }
   ],
   "source": [
    "2*(np.linalg.det(A))"
   ]
  },
  {
   "cell_type": "markdown",
   "id": "61c4cd08-a0c5-4937-bc39-15a680e93180",
   "metadata": {},
   "source": [
    "##### 4. If A is square matrix of order 3 and k is a scalar, then |kA| = $k^3$|A|. By applying property 3, three times, we get the result."
   ]
  },
  {
   "cell_type": "code",
   "execution_count": 56,
   "id": "d87ed091-e704-4239-a183-4596934785e0",
   "metadata": {},
   "outputs": [],
   "source": [
    "A=np.random.randint(1,5,(3,3))"
   ]
  },
  {
   "cell_type": "code",
   "execution_count": 58,
   "id": "536bd785-44ec-42b3-a365-2fec30628049",
   "metadata": {},
   "outputs": [
    {
     "data": {
      "text/plain": [
       "array([[2, 1, 1],\n",
       "       [4, 1, 4],\n",
       "       [4, 3, 3]])"
      ]
     },
     "execution_count": 58,
     "metadata": {},
     "output_type": "execute_result"
    }
   ],
   "source": [
    "A"
   ]
  },
  {
   "cell_type": "code",
   "execution_count": 62,
   "id": "a9e409ca-86aa-4ccd-8811-91e015a7ddf6",
   "metadata": {},
   "outputs": [],
   "source": [
    "A3=3*A"
   ]
  },
  {
   "cell_type": "code",
   "execution_count": 64,
   "id": "df9fa8c1-63cf-4db5-817f-a40521604ec7",
   "metadata": {},
   "outputs": [
    {
     "data": {
      "text/plain": [
       "-161.99999999999994"
      ]
     },
     "execution_count": 64,
     "metadata": {},
     "output_type": "execute_result"
    }
   ],
   "source": [
    "np.linalg.det(A3)"
   ]
  },
  {
   "cell_type": "code",
   "execution_count": 68,
   "id": "745390bb-2702-4670-bfc7-17328ead7f8b",
   "metadata": {},
   "outputs": [
    {
     "data": {
      "text/plain": [
       "-162.0"
      ]
     },
     "execution_count": 68,
     "metadata": {},
     "output_type": "execute_result"
    }
   ],
   "source": [
    "(3**3)*(np.linalg.det(A))"
   ]
  },
  {
   "cell_type": "markdown",
   "id": "5b3986ff-c796-4a39-af6f-fced6263a6f7",
   "metadata": {},
   "source": [
    "##### 5. If two rows (or columns) of a square matrix are identical, then the determinant of that matrix is zero."
   ]
  },
  {
   "cell_type": "code",
   "execution_count": 71,
   "id": "1cdb60ef-5164-4109-a5f8-701c29ae6fd9",
   "metadata": {},
   "outputs": [],
   "source": [
    "identical_matrix=np.array([[2, 2, 1],\n",
    "                           [4, 4, 5],\n",
    "                           [4, 4, 3]])"
   ]
  },
  {
   "cell_type": "code",
   "execution_count": 106,
   "id": "69308a16-0078-40f4-9b2e-796d8c3c7627",
   "metadata": {},
   "outputs": [
    {
     "data": {
      "text/plain": [
       "array([[2, 2, 1],\n",
       "       [4, 4, 5],\n",
       "       [4, 4, 3]])"
      ]
     },
     "execution_count": 106,
     "metadata": {},
     "output_type": "execute_result"
    }
   ],
   "source": [
    "identical_matrix"
   ]
  },
  {
   "cell_type": "code",
   "execution_count": 73,
   "id": "97a28444-edb8-405b-97aa-877924ab3534",
   "metadata": {},
   "outputs": [
    {
     "data": {
      "text/plain": [
       "0.0"
      ]
     },
     "execution_count": 73,
     "metadata": {},
     "output_type": "execute_result"
    }
   ],
   "source": [
    "np.linalg.det(identical_matrix)"
   ]
  },
  {
   "cell_type": "markdown",
   "id": "ac561e4e-76b6-4a02-b60e-8fa4a5e23ddc",
   "metadata": {},
   "source": [
    "##### 6. If the corresponding elements of two rows (or columns) of a square matrix are in the same ration, then the determinant of that matrix is zero."
   ]
  },
  {
   "cell_type": "code",
   "execution_count": 100,
   "id": "23b0a0ed-5945-4653-9b27-d77fbad1c5d9",
   "metadata": {},
   "outputs": [],
   "source": [
    "ration_matrix=np.array([[2, 4, 1],\n",
    "                           [4, 8, 5],\n",
    "                           [4, 8, 3]])"
   ]
  },
  {
   "cell_type": "code",
   "execution_count": 104,
   "id": "b9f9cfd6-8679-4580-b83d-4ee6c3646b71",
   "metadata": {},
   "outputs": [
    {
     "data": {
      "text/plain": [
       "array([[2, 4, 1],\n",
       "       [4, 8, 5],\n",
       "       [4, 8, 3]])"
      ]
     },
     "execution_count": 104,
     "metadata": {},
     "output_type": "execute_result"
    }
   ],
   "source": [
    "ration_matrix"
   ]
  },
  {
   "cell_type": "code",
   "execution_count": 108,
   "id": "7db858f9-20b4-4d27-be63-89a234a94d8b",
   "metadata": {},
   "outputs": [
    {
     "data": {
      "text/plain": [
       "0.0"
      ]
     },
     "execution_count": 108,
     "metadata": {},
     "output_type": "execute_result"
    }
   ],
   "source": [
    "np.linalg.det(ration_matrix)"
   ]
  },
  {
   "cell_type": "markdown",
   "id": "42cb3c82-6f9c-4b8a-b932-0aec648f79d1",
   "metadata": {},
   "source": [
    "##### 7. If each element in a row (or column) of a square matrix is the sum of two numbers, then its determinant can be expressed as the sum of the determinants of two square matrices. "
   ]
  },
  {
   "cell_type": "code",
   "execution_count": 112,
   "id": "de377253-703b-427f-847f-bf6a83fb7dec",
   "metadata": {},
   "outputs": [],
   "source": [
    "A=np.array([[2+3, 4, 1],\n",
    "            [4+5, 8, 5],\n",
    "            [4+2, 8, 3]])"
   ]
  },
  {
   "cell_type": "code",
   "execution_count": 126,
   "id": "e692889c-81a1-4d68-989a-e8961d9d7925",
   "metadata": {},
   "outputs": [],
   "source": [
    "B=np.array([[2, 4, 1],\n",
    "            [4, 8, 5],\n",
    "            [4, 8, 3]])"
   ]
  },
  {
   "cell_type": "code",
   "execution_count": 128,
   "id": "2c88ee14-0ede-4f1a-9da5-619fe84036e0",
   "metadata": {},
   "outputs": [],
   "source": [
    "C=np.array([[3, 4, 1],\n",
    "            [5, 8, 5],\n",
    "            [2, 8, 3]])"
   ]
  },
  {
   "cell_type": "code",
   "execution_count": 130,
   "id": "96e2bf03-19ce-430c-805c-66b489e55ddb",
   "metadata": {},
   "outputs": [
    {
     "data": {
      "text/plain": [
       "-44.000000000000014"
      ]
     },
     "execution_count": 130,
     "metadata": {},
     "output_type": "execute_result"
    }
   ],
   "source": [
    "np.linalg.det(A)"
   ]
  },
  {
   "cell_type": "code",
   "execution_count": 132,
   "id": "6ecb00b2-e7e7-41b7-bb5d-18fab5edf72c",
   "metadata": {},
   "outputs": [
    {
     "data": {
      "text/plain": [
       "0.0"
      ]
     },
     "execution_count": 132,
     "metadata": {},
     "output_type": "execute_result"
    }
   ],
   "source": [
    "np.linalg.det(B)"
   ]
  },
  {
   "cell_type": "code",
   "execution_count": 134,
   "id": "426f06ec-9400-4bf4-8b69-915ed7d6e14e",
   "metadata": {},
   "outputs": [
    {
     "data": {
      "text/plain": [
       "-43.99999999999999"
      ]
     },
     "execution_count": 134,
     "metadata": {},
     "output_type": "execute_result"
    }
   ],
   "source": [
    "np.linalg.det(C)"
   ]
  },
  {
   "cell_type": "code",
   "execution_count": 136,
   "id": "77a5bde1-4d16-46d6-ba13-d88c49055707",
   "metadata": {},
   "outputs": [],
   "source": [
    "# Here we can see that both are too close."
   ]
  },
  {
   "cell_type": "markdown",
   "id": "548ae52a-776b-4633-aab0-2ce7ed463db9",
   "metadata": {},
   "source": [
    "##### 8. For any square matrix A, det A = det(A')"
   ]
  },
  {
   "cell_type": "code",
   "execution_count": 145,
   "id": "3ee9ece1-7909-4caa-b188-04383b2a5622",
   "metadata": {},
   "outputs": [],
   "source": [
    "A=np.random.randint(1,10,(3,3))"
   ]
  },
  {
   "cell_type": "code",
   "execution_count": 147,
   "id": "c9df1dcc-518b-46b6-a347-8483198dc546",
   "metadata": {},
   "outputs": [
    {
     "data": {
      "text/plain": [
       "array([[6, 4, 9],\n",
       "       [5, 5, 9],\n",
       "       [3, 9, 7]])"
      ]
     },
     "execution_count": 147,
     "metadata": {},
     "output_type": "execute_result"
    }
   ],
   "source": [
    "A"
   ]
  },
  {
   "cell_type": "code",
   "execution_count": 149,
   "id": "b35bb2d6-595f-49ae-a05b-9530f65b3f8b",
   "metadata": {},
   "outputs": [],
   "source": [
    "A_transpose=A.T"
   ]
  },
  {
   "cell_type": "code",
   "execution_count": 151,
   "id": "115fb0af-4d9a-4f41-bafc-f3863c612c0e",
   "metadata": {},
   "outputs": [
    {
     "data": {
      "text/plain": [
       "array([[6, 5, 3],\n",
       "       [4, 5, 9],\n",
       "       [9, 9, 7]])"
      ]
     },
     "execution_count": 151,
     "metadata": {},
     "output_type": "execute_result"
    }
   ],
   "source": [
    "A_transpose"
   ]
  },
  {
   "cell_type": "code",
   "execution_count": 155,
   "id": "2e4ae638-9414-49cd-b0f3-cfa1aff8d58b",
   "metadata": {},
   "outputs": [
    {
     "data": {
      "text/plain": [
       "-38.000000000000014"
      ]
     },
     "execution_count": 155,
     "metadata": {},
     "output_type": "execute_result"
    }
   ],
   "source": [
    "np.linalg.det(A)"
   ]
  },
  {
   "cell_type": "code",
   "execution_count": 157,
   "id": "46cffb85-31f7-4746-81e2-a2527f4fda74",
   "metadata": {},
   "outputs": [
    {
     "data": {
      "text/plain": [
       "-37.99999999999999"
      ]
     },
     "execution_count": 157,
     "metadata": {},
     "output_type": "execute_result"
    }
   ],
   "source": [
    "np.linalg.det(A_transpose)"
   ]
  },
  {
   "cell_type": "markdown",
   "id": "868ba6af-3950-42a3-9ed9-bda58df9e0b7",
   "metadata": {},
   "source": [
    "##### 9. Det(AB) = (detA)(detB) for matrices A,B of order 2"
   ]
  },
  {
   "cell_type": "code",
   "execution_count": 170,
   "id": "83ed5913-b3e2-4198-978a-037d8b45bfdd",
   "metadata": {},
   "outputs": [
    {
     "data": {
      "text/plain": [
       "array([[4, 7],\n",
       "       [6, 1]])"
      ]
     },
     "execution_count": 170,
     "metadata": {},
     "output_type": "execute_result"
    }
   ],
   "source": [
    "A=np.random.randint(1,9,(2,2))\n",
    "A"
   ]
  },
  {
   "cell_type": "code",
   "execution_count": 172,
   "id": "2dd9adb2-a1c0-4e63-a7fc-030383b8a734",
   "metadata": {},
   "outputs": [
    {
     "data": {
      "text/plain": [
       "array([[3, 2],\n",
       "       [1, 2]])"
      ]
     },
     "execution_count": 172,
     "metadata": {},
     "output_type": "execute_result"
    }
   ],
   "source": [
    "B=np.random.randint(1,9,(2,2))\n",
    "B"
   ]
  },
  {
   "cell_type": "code",
   "execution_count": 179,
   "id": "4b208100-ce99-4a0a-8341-1db3cee891e6",
   "metadata": {},
   "outputs": [
    {
     "data": {
      "text/plain": [
       "-152.0"
      ]
     },
     "execution_count": 179,
     "metadata": {},
     "output_type": "execute_result"
    }
   ],
   "source": [
    "np.linalg.det(np.dot(A,B))"
   ]
  },
  {
   "cell_type": "code",
   "execution_count": 181,
   "id": "003e01b7-10bd-4023-9b82-8746ebd433b5",
   "metadata": {},
   "outputs": [
    {
     "data": {
      "text/plain": [
       "-152.0"
      ]
     },
     "execution_count": 181,
     "metadata": {},
     "output_type": "execute_result"
    }
   ],
   "source": [
    "np.linalg.det(A)*np.linalg.det(B)"
   ]
  },
  {
   "cell_type": "markdown",
   "id": "6c01ba42-d134-4cc8-b42f-61bc9d477dd1",
   "metadata": {},
   "source": [
    "##### 10.  For any positive integer n, $det(A^n)=(det A)^n $"
   ]
  },
  {
   "cell_type": "code",
   "execution_count": 195,
   "id": "c377e0bf-f0d4-4d61-8ac7-c0d01778faba",
   "metadata": {},
   "outputs": [
    {
     "data": {
      "text/plain": [
       "array([[7, 6, 3],\n",
       "       [3, 6, 8],\n",
       "       [6, 4, 3]])"
      ]
     },
     "execution_count": 195,
     "metadata": {},
     "output_type": "execute_result"
    }
   ],
   "source": [
    "A=np.random.randint(1,9,(3,3))\n",
    "A"
   ]
  },
  {
   "cell_type": "code",
   "execution_count": 207,
   "id": "c614afc1-c5e2-4d26-888b-f30add743d7a",
   "metadata": {},
   "outputs": [],
   "source": [
    "A_power_2=np.dot(A,A)"
   ]
  },
  {
   "cell_type": "code",
   "execution_count": 209,
   "id": "31cdc2bc-d6b6-4b7b-8c3b-279d27517e18",
   "metadata": {},
   "outputs": [
    {
     "data": {
      "text/plain": [
       "array([[85, 90, 78],\n",
       "       [87, 86, 81],\n",
       "       [72, 72, 59]])"
      ]
     },
     "execution_count": 209,
     "metadata": {},
     "output_type": "execute_result"
    }
   ],
   "source": [
    "A_power_2"
   ]
  },
  {
   "cell_type": "code",
   "execution_count": 211,
   "id": "a8e3c768-6c3a-46da-b1d9-feaa066ab849",
   "metadata": {},
   "outputs": [
    {
     "data": {
      "text/plain": [
       "4095.999999999997"
      ]
     },
     "execution_count": 211,
     "metadata": {},
     "output_type": "execute_result"
    }
   ],
   "source": [
    "np.linalg.det(A_power_2)"
   ]
  },
  {
   "cell_type": "code",
   "execution_count": 213,
   "id": "8ad6ee2e-1a1e-49c6-b3c0-e196ced5e334",
   "metadata": {},
   "outputs": [
    {
     "data": {
      "text/plain": [
       "4095.9999999999973"
      ]
     },
     "execution_count": 213,
     "metadata": {},
     "output_type": "execute_result"
    }
   ],
   "source": [
    "(np.linalg.det(A))**2"
   ]
  },
  {
   "cell_type": "markdown",
   "id": "5aeeb538-bd78-4328-b6d6-493d9c20dd84",
   "metadata": {},
   "source": [
    "##### 11. If A is a triangular matrix (upper or lower), then determinant of A is the product of the diagonal elements."
   ]
  },
  {
   "cell_type": "code",
   "execution_count": 221,
   "id": "763d5908-7427-4b75-b675-a9206a732345",
   "metadata": {},
   "outputs": [],
   "source": [
    "triangular_matrix=np.array([[1,2,3],\n",
    "                           [0,4,5],\n",
    "                           [0,0,3]])"
   ]
  },
  {
   "cell_type": "code",
   "execution_count": 223,
   "id": "a3d6adbb-0d0a-441e-8c85-dc8d9b662764",
   "metadata": {},
   "outputs": [
    {
     "data": {
      "text/plain": [
       "array([[1, 2, 3],\n",
       "       [0, 4, 5],\n",
       "       [0, 0, 3]])"
      ]
     },
     "execution_count": 223,
     "metadata": {},
     "output_type": "execute_result"
    }
   ],
   "source": [
    "triangular_matrix"
   ]
  },
  {
   "cell_type": "code",
   "execution_count": 225,
   "id": "91839678-d38f-44e9-af8a-5039aa1a385d",
   "metadata": {},
   "outputs": [
    {
     "data": {
      "text/plain": [
       "array([1, 4, 3])"
      ]
     },
     "execution_count": 225,
     "metadata": {},
     "output_type": "execute_result"
    }
   ],
   "source": [
    "# Answer should be product of its diagonal elements\n",
    "np.diag(triangular_matrix)"
   ]
  },
  {
   "cell_type": "code",
   "execution_count": 231,
   "id": "7aa02ed1-846a-4df8-9bb5-887595770f97",
   "metadata": {},
   "outputs": [
    {
     "name": "stdout",
     "output_type": "stream",
     "text": [
      "12\n"
     ]
    }
   ],
   "source": [
    "a=1\n",
    "for i in np.diag(triangular_matrix):\n",
    "    a*=i\n",
    "print(a)"
   ]
  },
  {
   "cell_type": "code",
   "execution_count": 233,
   "id": "8aba7e58-4f0b-449b-84e6-c364285e89ef",
   "metadata": {},
   "outputs": [
    {
     "data": {
      "text/plain": [
       "12.0"
      ]
     },
     "execution_count": 233,
     "metadata": {},
     "output_type": "execute_result"
    }
   ],
   "source": [
    "np.linalg.det(triangular_matrix)"
   ]
  }
 ],
 "metadata": {
  "kernelspec": {
   "display_name": "Python 3 (ipykernel)",
   "language": "python",
   "name": "python3"
  },
  "language_info": {
   "codemirror_mode": {
    "name": "ipython",
    "version": 3
   },
   "file_extension": ".py",
   "mimetype": "text/x-python",
   "name": "python",
   "nbconvert_exporter": "python",
   "pygments_lexer": "ipython3",
   "version": "3.11.7"
  }
 },
 "nbformat": 4,
 "nbformat_minor": 5
}
