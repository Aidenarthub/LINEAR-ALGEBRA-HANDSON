{
 "cells": [
  {
   "cell_type": "markdown",
   "id": "79af0d66-14bf-46fd-9497-79883e0b83b1",
   "metadata": {},
   "source": [
    "### Singular and Non-singular matrices\n",
    "A square matrix is said to be **`singular`** if its determinant is zero. Otherwise it is said to be **`non-singular`**"
   ]
  },
  {
   "cell_type": "code",
   "execution_count": 18,
   "id": "a581e5f3-a920-4ba4-aa06-af402460877b",
   "metadata": {},
   "outputs": [],
   "source": [
    "import numpy as np"
   ]
  },
  {
   "cell_type": "code",
   "execution_count": 20,
   "id": "4f8301bb-dd67-4226-9982-d76b437db618",
   "metadata": {},
   "outputs": [
    {
     "data": {
      "text/plain": [
       "0.0"
      ]
     },
     "execution_count": 20,
     "metadata": {},
     "output_type": "execute_result"
    }
   ],
   "source": [
    "singular=np.array([[3,2],[6,4]])\n",
    "np.linalg.det(singular)"
   ]
  },
  {
   "cell_type": "code",
   "execution_count": 22,
   "id": "96d211c0-33c2-497d-970a-e77fa1075fef",
   "metadata": {},
   "outputs": [
    {
     "data": {
      "text/plain": [
       "23.999999999999993"
      ]
     },
     "execution_count": 22,
     "metadata": {},
     "output_type": "execute_result"
    }
   ],
   "source": [
    "non_singular=np.array([[3,-2],[6,4]])\n",
    "np.linalg.det(non_singular)"
   ]
  },
  {
   "cell_type": "markdown",
   "id": "bdd8ae10-842b-471c-8155-30b8ca54e6a2",
   "metadata": {},
   "source": [
    "# 1. Adjoint of a Matrix\n",
    "The **adjoint** (also called the **adjugate**) of a matrix is the transpose of the cofactor matrix. It is used in calculating the inverse of a matrix.\n",
    "\n",
    "## Steps to Find the Adjoint of a Matrix:\n",
    "1. **Cofactor Matrix**: Compute the cofactor of each element in the matrix. The cofactor of an element is calculated by:\n",
    "   - Taking the determinant of the matrix obtained by deleting the row and column of the element.\n",
    "   - Alternating signs according to the position of the element.\n",
    "\n",
    "For a matrix \\( A \\), the cofactor \\( C_{ij} \\) of an element \\( a_{ij} \\) is:\n",
    "\n",
    "$$\n",
    "C_{ij} = (-1)^{i+j} \\cdot \\text{det}(M_{ij})\n",
    "$$\n",
    "\n",
    "where \\( M_{ij} \\) is the minor of the element.\n",
    "\n",
    "2. **Transpose of the Cofactor Matrix**: The adjoint (adjugate) is obtained by taking the transpose of the cofactor matrix.\n",
    "\n",
    "If matrix \\( A \\) is:\n",
    "\n",
    "$$\n",
    "A = \\begin{bmatrix} a_{11} & a_{12} \\\\ a_{21} & a_{22} \\end{bmatrix}\n",
    "$$\n",
    "\n",
    "The adjoint is the transpose of the cofactor matrix:\n",
    "\n",
    "$$\n",
    "\\text{adj}(A) = \\text{Cofactor}(A)^T\n",
    "$$\n",
    "\n",
    "## Example:\n",
    "For a \\( 2 \\times 2 \\) matrix:\n",
    "\n",
    "$$\n",
    "A = \\begin{bmatrix} a & b \\\\ c & d \\end{bmatrix}\n",
    "$$\n",
    "\n",
    "The cofactor matrix is:\n",
    "\n",
    "$$\n",
    "\\text{Cofactor}(A) = \\begin{bmatrix} d & -b \\\\ -c & a \\end{bmatrix}\n",
    "$$\n",
    "\n",
    "The adjoint is the transpose of the cofactor matrix:\n",
    "\n",
    "$$\n",
    "\\text{adj}(A) = \\begin{bmatrix} d & -c \\\\ -b & a \\end{bmatrix}\n",
    "$$\n",
    "\n",
    "# 2. Invertible Matrix\n",
    "A matrix \\( A \\) is **invertible** (or **non-singular**) if there exists another matrix \\( B \\) such that:\n",
    "\n",
    "$$\n",
    "A \\cdot B = B \\cdot A = I\n",
    "$$\n",
    "\n",
    "where \\( I \\) is the identity matrix. The matrix \\( B \\) is called the inverse of \\( A \\), denoted by \\( A^{-1} \\).\n",
    "\n",
    "## Conditions for Invertibility:\n",
    "- **Square Matrix**: The matrix must be square (i.e., it has the same number of rows and columns).\n",
    "- **Non-zero Determinant**: A matrix is invertible if and only if its determinant is non-zero \\( \\text{det}(A) \\neq 0 \\).\n",
    "\n",
    "## Formula for the Inverse of a Matrix:\n",
    "The inverse of a square matrix \\( A \\) is given by:\n",
    "\n",
    "$$\n",
    "A^{-1} = \\frac{1}{\\text{det}(A)} \\cdot \\text{adj}(A)\n",
    "$$\n",
    "\n",
    "where \\( \\text{det}(A) \\) is the determinant of \\( A \\) and \\( \\text{adj}(A) \\) is the adjoint of \\( A \\).\n",
    "\n",
    "## Example:\n",
    "For a \\( 2 \\times 2 \\) matrix:\n",
    "\n",
    "$$\n",
    "A = \\begin{bmatrix} a & b \\\\ c & d \\end{bmatrix}\n",
    "$$\n",
    "\n",
    "The inverse is given by:\n",
    "\n",
    "$$\n",
    "A^{-1} = \\frac{1}{ad - bc} \\begin{bmatrix} d & -b \\\\ -c & a \\end{bmatrix}\n",
    "$$\n",
    "\n",
    "provided that \\( ad - bc ).\n"
   ]
  },
  {
   "cell_type": "markdown",
   "id": "25a45a28-df62-432d-a10b-2b8cf8aa52ba",
   "metadata": {},
   "source": [
    "### Properties of Invertible Matrices:\r",
    "### \n",
    "1.$( (A^{-1})^{-1} = A$)\r\n"
   ]
  },
  {
   "cell_type": "code",
   "execution_count": 74,
   "id": "b2834ebf-2515-4557-a94c-3e8309617b67",
   "metadata": {},
   "outputs": [],
   "source": [
    "A=np.random.randint(1,9,(3,3))"
   ]
  },
  {
   "cell_type": "code",
   "execution_count": 76,
   "id": "ffd84184-d054-4217-9910-bc712e31436b",
   "metadata": {},
   "outputs": [
    {
     "data": {
      "text/plain": [
       "array([[5, 6, 5],\n",
       "       [7, 4, 6],\n",
       "       [8, 6, 3]])"
      ]
     },
     "execution_count": 76,
     "metadata": {},
     "output_type": "execute_result"
    }
   ],
   "source": [
    "A"
   ]
  },
  {
   "cell_type": "code",
   "execution_count": 80,
   "id": "2bce64ab-7e21-418f-9adf-144c5542c0ba",
   "metadata": {},
   "outputs": [],
   "source": [
    "A_inv=np.linalg.inv(A)"
   ]
  },
  {
   "cell_type": "code",
   "execution_count": 84,
   "id": "315f5fd1-5e73-4f03-9676-c276b69d771f",
   "metadata": {},
   "outputs": [
    {
     "data": {
      "text/plain": [
       "array([[5., 6., 5.],\n",
       "       [7., 4., 6.],\n",
       "       [8., 6., 3.]])"
      ]
     },
     "execution_count": 84,
     "metadata": {},
     "output_type": "execute_result"
    }
   ],
   "source": [
    "np.linalg.inv(A_inv)"
   ]
  },
  {
   "cell_type": "markdown",
   "id": "31505d25-c27d-4a63-8490-a166a56b1c77",
   "metadata": {},
   "source": [
    "2. $ (A^{T})^{-1} = (A^{-1})^{T} $"
   ]
  },
  {
   "cell_type": "code",
   "execution_count": 98,
   "id": "b72d6cd7-ca5a-428a-80e3-321bc970bda1",
   "metadata": {},
   "outputs": [],
   "source": [
    "A_tran=np.transpose(A)"
   ]
  },
  {
   "cell_type": "code",
   "execution_count": 102,
   "id": "79a7c6eb-0f6f-4998-a9fe-181360094110",
   "metadata": {},
   "outputs": [
    {
     "data": {
      "text/plain": [
       "array([[-0.26086957,  0.29347826,  0.10869565],\n",
       "       [ 0.13043478, -0.27173913,  0.19565217],\n",
       "       [ 0.17391304,  0.05434783, -0.23913043]])"
      ]
     },
     "execution_count": 102,
     "metadata": {},
     "output_type": "execute_result"
    }
   ],
   "source": [
    "np.linalg.inv(A_tran)"
   ]
  },
  {
   "cell_type": "code",
   "execution_count": 104,
   "id": "980d5dd2-35ad-4390-ac0f-ef6d1317b300",
   "metadata": {},
   "outputs": [
    {
     "data": {
      "text/plain": [
       "array([[-0.26086957,  0.29347826,  0.10869565],\n",
       "       [ 0.13043478, -0.27173913,  0.19565217],\n",
       "       [ 0.17391304,  0.05434783, -0.23913043]])"
      ]
     },
     "execution_count": 104,
     "metadata": {},
     "output_type": "execute_result"
    }
   ],
   "source": [
    "np.transpose(A_inv)"
   ]
  },
  {
   "cell_type": "markdown",
   "id": "da19addf-45d6-4bb5-8a85-29c4b447cd27",
   "metadata": {},
   "source": [
    "3. $\\text{det}(A^{-1}) = \\frac{1}{\\text{det}(A)} $"
   ]
  },
  {
   "cell_type": "code",
   "execution_count": 108,
   "id": "42e5bacb-365c-4688-b4c5-b27bd65bd68d",
   "metadata": {},
   "outputs": [
    {
     "data": {
      "text/plain": [
       "0.010869565217391302"
      ]
     },
     "execution_count": 108,
     "metadata": {},
     "output_type": "execute_result"
    }
   ],
   "source": [
    "np.linalg.det(A_inv)"
   ]
  },
  {
   "cell_type": "code",
   "execution_count": 112,
   "id": "852aaa4a-e560-4945-83a0-afd41f7430e7",
   "metadata": {},
   "outputs": [
    {
     "data": {
      "text/plain": [
       "0.010869565217391302"
      ]
     },
     "execution_count": 112,
     "metadata": {},
     "output_type": "execute_result"
    }
   ],
   "source": [
    "1/np.linalg.det(A)"
   ]
  },
  {
   "cell_type": "markdown",
   "id": "6d878c57-6d52-4841-9fd6-060bcf3723da",
   "metadata": {},
   "source": [
    "4. $(AB)^{-1}$=$ B^{-1}A^{-1} $"
   ]
  },
  {
   "cell_type": "code",
   "execution_count": 124,
   "id": "bca820e4-340f-45a7-90f6-2d0317150d69",
   "metadata": {},
   "outputs": [
    {
     "data": {
      "text/plain": [
       "array([[5, 6, 5],\n",
       "       [7, 4, 6],\n",
       "       [8, 6, 3]])"
      ]
     },
     "execution_count": 124,
     "metadata": {},
     "output_type": "execute_result"
    }
   ],
   "source": [
    "A"
   ]
  },
  {
   "cell_type": "code",
   "execution_count": 128,
   "id": "bf2eea93-a2b8-4942-8080-c5c42668d8ca",
   "metadata": {},
   "outputs": [
    {
     "data": {
      "text/plain": [
       "array([[5, 7, 6],\n",
       "       [9, 7, 9],\n",
       "       [6, 3, 2]])"
      ]
     },
     "execution_count": 128,
     "metadata": {},
     "output_type": "execute_result"
    }
   ],
   "source": [
    "B=np.random.randint(1,10,(3,3))\n",
    "B"
   ]
  },
  {
   "cell_type": "code",
   "execution_count": 130,
   "id": "c6aee1c8-6ad5-4775-a7d8-016d52f5f101",
   "metadata": {},
   "outputs": [],
   "source": [
    "AB_dot=np.dot(A,B)"
   ]
  },
  {
   "cell_type": "code",
   "execution_count": 132,
   "id": "01bd3422-0476-4d35-8917-489f8635f259",
   "metadata": {},
   "outputs": [
    {
     "data": {
      "text/plain": [
       "array([[109,  92,  94],\n",
       "       [107,  95,  90],\n",
       "       [112, 107, 108]])"
      ]
     },
     "execution_count": 132,
     "metadata": {},
     "output_type": "execute_result"
    }
   ],
   "source": [
    "AB_dot"
   ]
  },
  {
   "cell_type": "code",
   "execution_count": 138,
   "id": "f0ccae31-584e-47a5-b4fd-4c17e219f0dc",
   "metadata": {},
   "outputs": [
    {
     "data": {
      "text/plain": [
       "array([[ 0.07059615,  0.013671  , -0.07283729],\n",
       "       [-0.16539668,  0.13939937,  0.02779023],\n",
       "       [ 0.09065442, -0.15228597,  0.05726132]])"
      ]
     },
     "execution_count": 138,
     "metadata": {},
     "output_type": "execute_result"
    }
   ],
   "source": [
    "np.linalg.inv(AB_dot)"
   ]
  },
  {
   "cell_type": "code",
   "execution_count": 140,
   "id": "bd7a5be4-e617-4451-88f1-f76c0af361af",
   "metadata": {},
   "outputs": [],
   "source": [
    "B_inv=np.linalg.inv(B)"
   ]
  },
  {
   "cell_type": "code",
   "execution_count": 144,
   "id": "776369c9-e26e-4e1f-85ab-d0c51d64924f",
   "metadata": {},
   "outputs": [
    {
     "data": {
      "text/plain": [
       "array([[ 0.07059615,  0.013671  , -0.07283729],\n",
       "       [-0.16539668,  0.13939937,  0.02779023],\n",
       "       [ 0.09065442, -0.15228597,  0.05726132]])"
      ]
     },
     "execution_count": 144,
     "metadata": {},
     "output_type": "execute_result"
    }
   ],
   "source": [
    "np.dot(B_inv,A_inv)"
   ]
  },
  {
   "cell_type": "code",
   "execution_count": null,
   "id": "bca99500-35f7-4a30-bc27-1f1aef9c50e8",
   "metadata": {},
   "outputs": [],
   "source": []
  },
  {
   "cell_type": "code",
   "execution_count": null,
   "id": "c3526f37-4afd-4ce7-a92d-b5a332aa45a8",
   "metadata": {},
   "outputs": [],
   "source": []
  }
 ],
 "metadata": {
  "kernelspec": {
   "display_name": "Python 3 (ipykernel)",
   "language": "python",
   "name": "python3"
  },
  "language_info": {
   "codemirror_mode": {
    "name": "ipython",
    "version": 3
   },
   "file_extension": ".py",
   "mimetype": "text/x-python",
   "name": "python",
   "nbconvert_exporter": "python",
   "pygments_lexer": "ipython3",
   "version": "3.11.7"
  }
 },
 "nbformat": 4,
 "nbformat_minor": 5
}
