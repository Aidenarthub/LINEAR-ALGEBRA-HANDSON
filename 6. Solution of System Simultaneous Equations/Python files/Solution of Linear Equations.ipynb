{
 "cells": [
  {
   "cell_type": "markdown",
   "id": "69df421d-a26b-4c94-8ece-901a2d424177",
   "metadata": {},
   "source": [
    "### Consistent and Inconsistent Systems\n",
    "\n",
    "A **system of linear equations** can either be consistent or inconsistent:\n",
    "\n",
    "1. **Consistent System**:  \n",
    "   A system of linear equations is **consistent** if it has at least one solution. This means that the equations do not contradict each other, and the solution may be either:\n",
    "   - **Unique Solution**: A single solution that satisfies all the equations (i.e., intersecting lines at a single point).\n",
    "   - **Infinitely Many Solutions**: Multiple solutions exist, often due to dependent equations (i.e., coincident lines).\n",
    "\n",
    "2. **Inconsistent System**:  \n",
    "   A system of linear equations is **inconsistent** if it has no solution. This occurs when the equations contradict each other, resulting in no common point of intersection (i.e., parallel lines that never meet). \n",
    "\n",
    "For example:\n",
    "\n",
    "- The system of equations:\n",
    "\n",
    "  $\n",
    "  x + y = 2 \\quad \\text{and} \\quad 2x + 2y = 4\n",
    "  $\n",
    "\n",
    "  is **consistent** with infinitely many solutions since the second equation is a multiple of the first.\n",
    "\n",
    "- The system of equations:\n",
    "\n",
    "  $\n",
    "  x + y = 2 \\quad \\text{and} \\quad x + y = 5\n",
    "  $\n",
    "\n",
    "  is **inconsistent** because the two lines are parallel and never intersect, implying no solution exists.\n"
   ]
  },
  {
   "cell_type": "markdown",
   "id": "fb7a64b1-354e-4f47-a336-5ad2e2d98425",
   "metadata": {},
   "source": [
    "### Cramer's Rule for Solving Linear Systems\r\n",
    "\r\n",
    "**Cramer's Rule** is a method used to solve a system of linear equations using determinants. It is applicable when the system has the same number of equations as unknowns, and the determinant of the coefficient matrix is non-zero.\r\n",
    "\r\n",
    "#### System of Linear Equations\r\n",
    "Consider a system of \\( n \\) linear equations with \\( n \\) unknowns:\r\n",
    "\r\n",
    "$$\r\n",
    "\\begin{cases}\r\n",
    "a_{11}x_1 + a_{12}x_2 + \\cdots + a_{1n}x_n = b_1 \\\\\r\n",
    "a_{21}x_1 + a_{22}x_2 + \\cdots + a_{2n}x_n = b_2 \\\\\r\n",
    "\\vdots \\\\\r\n",
    "a_{n1}x_1 + a_{n2}x_2 + \\cdots + a_{nn}x_n = b_n\r\n",
    "\\end{cases}\r\n",
    "$$\r\n",
    "\r\n",
    "This system can be written in matrix form as:\r\n",
    "\r\n",
    "$$\r\n",
    "A \\mathbf{x} = \\mathbf{b}\r\n",
    "$$\r\n",
    "\r\n",
    "where:\r\n",
    "\r\n",
    "- $A$ is the coefficient matrix $\\begin{bmatrix} a_{11} & a_{12} & \\cdots & a_{1n} \\\\ a_{21} & a_{22} & \\cdots & a_{2n} \\\\ \\vdots & \\vdots & \\ddots & \\vdots \\\\ a_{n1} & a_{n2} & \\cdots & a_{nn} \\end{bmatrix}$\r\n",
    "- $\\mathbf{x}$ is the column vector of unknowns $\\begin{bmatrix} x_1 \\\\ x_2 \\\\ \\vdots \\\\ x_n \\end{bmatrix}$\r\n",
    "- $\\mathbf{b}$ is the constant column vector $\\begin{bmatrix} b_1 \\\\ b_2 \\\\ \\vdots \\\\ b_n \\end{bmatrix}$\r\n",
    "\r\n",
    "#### Steps to Solve Using Cramer's Rule\r\n",
    "\r\n",
    "1. **Compute the Determinant of the Coefficient Matrix $A$**:\r\n",
    "\r\n",
    "   $$\r\n",
    "   D = \\text{det}(A)\r\n",
    "   $$\r\n",
    "\r\n",
    "   If $D = 0$, the system has either no solution or infinitely many solutions (i.e., it is either inconsistent or dependent). If $D \\neq 0$, the system has a unique solution.\r\n",
    "\r\n",
    "2. **Construct Matrices for Each Variable**:\r\n",
    "\r\n",
    "   For each unknown $x_i$, construct a matrix $A_i$ by replacing the $i$-th column of $A$ with the constant vector $\\mathbf{b}$:\r\n",
    "\r\n",
    "   $$\r\n",
    "   A_i = \\text{Matrix obtained by replacing the } i\\text{-th column of } A \\text{ with } \\mathbf{b}\r\n",
    "   $$\r\n",
    "\r\n",
    "3. **Calculate the Determinant of Each Matrix $A_i$**:\r\n",
    "\r\n",
    "   $$\r\n",
    "   D_i = \\text{det}(A_i)\r\n",
    "   $$\r\n",
    "\r\n",
    "4. **Find Each Variable**:\r\n",
    "\r\n",
    "   The solution for each variable $x_i$ is given by:\r\n",
    "\r\n",
    "   $$\r\n",
    "   x_i = \\frac{D_i}{D} \\quad \\text{for } i = 1, 2, \\ldots, n\r\n",
    "   $$\r\n",
    "\r\n",
    "#### Example\r\n",
    "\r\n",
    "Consider the system:\r\n",
    "\r\n",
    "$$\r\n",
    "\\begin{cases}\r\n",
    "2x + 3y = 8 \\\\\r\n",
    "x - 4y = -2\r\n",
    "\\end{cases}\r\n",
    "$$\r\n",
    "\r\n",
    "- **Step 1: Coefficient Matrix $A$**\r\n",
    "\r\n",
    "  $$\r\n",
    "  A = \\begin{bmatrix} 2 & 3 \\\\ 1 & -4 \\end{bmatrix}\r\n",
    "  $$\r\n",
    "\r\n",
    "- **Step 2: Determinant of $A$**\r\n",
    "\r\n",
    "  $$\r\n",
    "  D = \\text{det}(A) = (2)(-4) - (3)(1) = -8 - 3 = -11\r\n",
    "  $$\r\n",
    "\r\n",
    "- **Step 3: Matrices for $x$ and $y$**\r\n",
    "\r\n",
    "  - For $x$:\r\n",
    "\r\n",
    "    $$\r\n",
    "    A_x = \\begin{bmatrix} 8 & 3 \\\\ -2 & -4 \\end{bmatrix}\r\n",
    "    $$\r\n",
    "\r\n",
    "    $$\r\n",
    "    D_x = \\text{det}(A_x) = (8)(-4) - (3)(-2) = -32 + 6 = -26\r\n",
    "    $$\r\n",
    "\r\n",
    "  - For $y$:\r\n",
    "\r\n",
    "    $$\r\n",
    "    A_y = \\begin{bmatrix} 2 & 8 \\\\ 1 & -2 \\end{bmatrix}\r\n",
    "    $$\r\n",
    "\r\n",
    "    $$\r\n",
    "    D_y = \\text{det}(A_y) = (2)(-2) - (8)(1) = -4 - 8 = -12\r\n",
    "    $$\r\n",
    "\r\n",
    "- **Step 4: Solve for $x$ and $y$**\r\n",
    "\r\n",
    "  $$\r\n",
    "  x = \\frac{D_x}{D} = \\frac{-26}{-11} = \\frac{26}{11}, \\quad y = \\frac{D_y}{D} = \\frac{-12}{-11} = \\frac{12}{11}\r\n",
    "  $$\r\n",
    "\r\n",
    "Thus, the solution is:\r\n",
    "\r\n",
    "$$\r\n",
    "x = \\frac{26}{11}, \\quad y = \\frac{12}{11}\r\n",
    "$$\r\n"
   ]
  },
  {
   "cell_type": "markdown",
   "id": "cd27cba6-0842-41bf-b70e-baebc90492d5",
   "metadata": {},
   "source": [
    "### Matrix Inversion Method for Solving Linear Systems\n",
    "\n",
    "The **Matrix Inversion Method** is a technique to solve a system of linear equations using the inverse of the coefficient matrix. It is applicable when the coefficient matrix is square and invertible (i.e., its determinant is non-zero).\n",
    "\n",
    "#### System of Linear Equations\n",
    "Consider a system of \\( n \\) linear equations with \\( n \\) unknowns:\n",
    "\n",
    "$$\n",
    "\\begin{cases}\n",
    "a_{11}x_1 + a_{12}x_2 + \\cdots + a_{1n}x_n = b_1 \\\\\n",
    "a_{21}x_1 + a_{22}x_2 + \\cdots + a_{2n}x_n = b_2 \\\\\n",
    "\\vdots \\\\\n",
    "a_{n1}x_1 + a_{n2}x_2 + \\cdots + a_{nn}x_n = b_n\n",
    "\\end{cases}\n",
    "$$\n",
    "\n",
    "This system can be written in matrix form as:\n",
    "\n",
    "$$\n",
    "A \\mathbf{x} = \\mathbf{b}\n",
    "$$\n",
    "\n",
    "where:\n",
    "\n",
    "- $A$ is the coefficient matrix \\(\\begin{bmatrix} a_{11} & a_{12} & \\cdots & a_{1n} \\\\ a_{21} & a_{22} & \\cdots & a_{2n} \\\\ \\vdots & \\vdots & \\ddots & \\vdots \\\\ a_{n1} & a_{n2} & \\cdots & a_{nn} \\end{bmatrix}\\)\n",
    "- \\(\\mathbf{x}\\) is the column vector of unknowns \\(\\begin{bmatrix} x_1 \\\\ x_2 \\\\ \\vdots \\\\ x_n \\end{bmatrix}\\)\n",
    "- \\(\\mathbf{b}\\) is the constant column vector \\(\\begin{bmatrix} b_1 \\\\ b_2 \\\\ \\vdots \\\\ b_n \\end{bmatrix}\\)\n",
    "\n",
    "#### Steps to Solve Using the Matrix Inversion Method\n",
    "\n",
    "1. **Find the Inverse of the Coefficient Matrix**:\n",
    "\n",
    "   If the matrix $A$ is invertible, its inverse is denoted as $A^{-1}$. The inverse of a matrix $A$ can be found using the formula:\n",
    "\n",
    "   $$\n",
    "   A^{-1} = \\frac{1}{\\text{det}(A)} \\cdot \\text{adj}(A)\n",
    "   $$\n",
    "\n",
    "   where \\(\\text{det}(A)\\) is the determinant of $A$ and \\(\\text{adj}(A)\\) is the adjoint of $A$.\n",
    "\n",
    "2. **Multiply Both Sides by the Inverse Matrix**:\n",
    "\n",
    "   To solve for $\\mathbf{x}$, multiply both sides of the matrix equation by $A^{-1}$:\n",
    "\n",
    "   $$\n",
    "   A^{-1} A \\mathbf{x} = A^{-1} \\mathbf{b}\n",
    "   $$\n",
    "\n",
    "   Since $A^{-1} A = I$, where $I$ is the identity matrix, we get:\n",
    "\n",
    "   $$\n",
    "   \\mathbf{x} = A^{-1} \\mathbf{b}\n",
    "   $$\n",
    "\n",
    "3. **Compute the Solution**:\n",
    "\n",
    "   Multiply the inverse of the coefficient matrix $A$ by the constant vector $\\mathbf{b}$ to obtain the solution vector $\\mathbf{x}$.\n",
    "\n",
    "#### Example\n",
    "\n",
    "Consider the system:\n",
    "\n",
    "$$\n",
    "\\begin{cases}\n",
    "2x + 3y = 8 \\\\\n",
    "x - 4y = -2\n",
    "\\end{cases}\n",
    "$$\n",
    "\n",
    "- **Step 1: Coefficient Matrix $A$**\n",
    "\n",
    "  $$\n",
    "  A = \\begin{bmatrix} 2 & 3 \\\\ 1 & -4 \\end{bmatrix}\n",
    "  $$\n",
    "\n",
    "- **Step 2: Find the Inverse of $A$**\n",
    "\n",
    "  First, compute the determinant:\n",
    "\n",
    "  $$\n",
    "  \\text{det}(A) = (2)(-4) - (3)(1) = -8 - 3 = -11\n",
    "  $$\n",
    "\n",
    "  Find the adjoint of $A$:\n",
    "\n",
    "  $$\n",
    "  \\text{adj}(A) = \\begin{bmatrix} -4 & -3 \\\\ -1 & 2 \\end{bmatrix}\n",
    "  $$\n",
    "\n",
    "  Now, calculate the inverse:\n",
    "\n",
    "  $$\n",
    "  A^{-1} = \\frac{1}{\\text{det}(A)} \\cdot \\text{adj}(A) = \\frac{1}{-11} \\begin{bmatrix} -4 & -3 \\\\ -1 & 2 \\end{bmatrix} = \\begin{bmatrix} \\frac{4}{11} & \\frac{3}{11} \\\\ \\frac{1}{11} & -\\frac{2}{11} \\end{bmatrix}\n",
    "  $$\n",
    "\n",
    "- **Step 3: Multiply by $\\mathbf{b}$**\n",
    "\n",
    "  The constant vector is:\n",
    "\n",
    "  $$\n",
    "  \\mathbf{b} = \\begin{bmatrix} 8 \\\\ -2 \\end{bmatrix}\n",
    "  $$\n",
    "\n",
    "  Now, calculate:\n",
    "\n",
    "  $$\n",
    "  \\mathbf{x} = A^{-1} \\mathbf{b} = \\begin{bmatrix} \\frac{4}{11} & \\frac{3}{11} \\\\ \\frac{1}{11} & -\\frac{2}{11} \\end{bmatrix} \\begin{bmatrix} 8 \\\\ -2 \\end{bmatrix}\n",
    "  $$\n",
    "\n",
    "  Perform the matrix multiplication:\n",
    "\n",
    "  $$\n",
    "  \\mathbf{x} = \\begin{bmatrix} \\frac{4}{11} \\cdot 8 + \\frac{3}{11} \\cdot (-2) \\\\ \\frac{1}{11} \\cdot 8 + \\left(-\\frac{2}{11}\\right) \\cdot (-2) \\end{bmatrix} = \\begin{bmatrix} \\frac{32}{11} - \\frac{6}{11} \\\\ \\frac{8}{11} + \\frac{4}{11} \\end{bmatrix} = \\begin{bmatrix} \\frac{26}{11} \\\\ \\frac{12}{11} \\end{bmatrix}\n",
    "  $$\n",
    "\n",
    "Thus, the solution is:\n",
    "\n",
    "$$\n",
    "x = \\frac{26}{11}, \\quad y = \\frac{12}{11}\n",
    "$$\n"
   ]
  },
  {
   "cell_type": "markdown",
   "id": "5fb54d42-1560-4303-b77d-43d3e1d14c6d",
   "metadata": {},
   "source": [
    "#### Python Implementation on non-homogenous matrix\n",
    "1. \\( 3x + 4y + 5z = 18 \\)\n",
    "2. \\( 2x - y + 8z = 13 \\)\n",
    "3. \\( 5x - 2y + 7z = 20 \\)"
   ]
  },
  {
   "cell_type": "markdown",
   "id": "86569f2c-11c0-45eb-a560-7b6346ab2840",
   "metadata": {},
   "source": [
    "##### we have to write it in matrix form  \n",
    "$$\n",
    "   \\mathbf{x} = A^{-1}D \n",
    "   $$"
   ]
  },
  {
   "cell_type": "code",
   "execution_count": 29,
   "id": "d83ceab1-4671-414e-b51e-75d4dc719623",
   "metadata": {},
   "outputs": [
    {
     "data": {
      "text/plain": [
       "array([[ 3,  4,  5],\n",
       "       [ 2, -1,  8],\n",
       "       [ 5, -2,  7]])"
      ]
     },
     "execution_count": 29,
     "metadata": {},
     "output_type": "execute_result"
    }
   ],
   "source": [
    "# step 1: writing A matrix(coefficient matrix)\n",
    "import numpy as np\n",
    "\n",
    "A=np.array([[3,4,5],\n",
    "           [2,-1,8],\n",
    "           [5,-2,7]])\n",
    "A\n"
   ]
  },
  {
   "cell_type": "code",
   "execution_count": 31,
   "id": "acec6529-ff35-4f47-899f-688791088a49",
   "metadata": {},
   "outputs": [
    {
     "data": {
      "text/plain": [
       "array([[18],\n",
       "       [13],\n",
       "       [20]])"
      ]
     },
     "execution_count": 31,
     "metadata": {},
     "output_type": "execute_result"
    }
   ],
   "source": [
    "# step 2 : writing D matrix (constant matrix)\n",
    "D=np.array([[18],[13],[20]])\n",
    "D"
   ]
  },
  {
   "cell_type": "code",
   "execution_count": 35,
   "id": "9c246a33-28fc-4857-bbde-4d57cdab4a25",
   "metadata": {},
   "outputs": [
    {
     "data": {
      "text/plain": [
       "array([[ 0.06617647, -0.27941176,  0.27205882],\n",
       "       [ 0.19117647, -0.02941176, -0.10294118],\n",
       "       [ 0.00735294,  0.19117647, -0.08088235]])"
      ]
     },
     "execution_count": 35,
     "metadata": {},
     "output_type": "execute_result"
    }
   ],
   "source": [
    "# step 3 : finding inverse of matrix A\n",
    "A_inv=np.linalg.inv(A)\n",
    "A_inv"
   ]
  },
  {
   "cell_type": "code",
   "execution_count": 39,
   "id": "30199234-6cb6-456e-b94c-ae4add34523a",
   "metadata": {},
   "outputs": [
    {
     "data": {
      "text/plain": [
       "array([[3.],\n",
       "       [1.],\n",
       "       [1.]])"
      ]
     },
     "execution_count": 39,
     "metadata": {},
     "output_type": "execute_result"
    }
   ],
   "source": [
    "# step 4 : dot product of A_inv and D then we get solutions\n",
    "\n",
    "np.dot(A_inv,D)"
   ]
  },
  {
   "cell_type": "markdown",
   "id": "a912bcde-5e62-49f8-9f83-385f703dff78",
   "metadata": {},
   "source": [
    "#### Python implementation on Homogenous matrix"
   ]
  },
  {
   "cell_type": "raw",
   "id": "786e833d-8fcf-4a3a-b8b7-a038ef6f1e87",
   "metadata": {},
   "source": [
    "2x+3y-z = 0\n",
    "x -y -2   = 0\n",
    "3x+y +3z = 0"
   ]
  },
  {
   "cell_type": "code",
   "execution_count": 57,
   "id": "fb576675-e8dc-490e-8e02-f21386fa0505",
   "metadata": {},
   "outputs": [
    {
     "data": {
      "text/plain": [
       "array([[ 2,  3, -1],\n",
       "       [ 1, -1, -2],\n",
       "       [ 3,  1,  3]])"
      ]
     },
     "execution_count": 57,
     "metadata": {},
     "output_type": "execute_result"
    }
   ],
   "source": [
    "# step 1: Defining Coeffient matrix A\n",
    "A=np.array([[2,3,-1],\n",
    "            [1,-1,-2],\n",
    "            [3,1,3]])\n",
    "A"
   ]
  },
  {
   "cell_type": "code",
   "execution_count": 59,
   "id": "d059b786-247b-4ab0-ab4b-863aefefef3f",
   "metadata": {},
   "outputs": [
    {
     "data": {
      "text/plain": [
       "array([[0],\n",
       "       [0],\n",
       "       [0]])"
      ]
     },
     "execution_count": 59,
     "metadata": {},
     "output_type": "execute_result"
    }
   ],
   "source": [
    "# step 2 : Defining Constant matrix D\n",
    "D=np.array([[0],[0],[0]])\n",
    "D"
   ]
  },
  {
   "cell_type": "code",
   "execution_count": 63,
   "id": "3f3c1a97-cbee-4ca9-b556-6509e41e43a3",
   "metadata": {},
   "outputs": [
    {
     "data": {
      "text/plain": [
       "array([[ 0.03030303,  0.3030303 ,  0.21212121],\n",
       "       [ 0.27272727, -0.27272727, -0.09090909],\n",
       "       [-0.12121212, -0.21212121,  0.15151515]])"
      ]
     },
     "execution_count": 63,
     "metadata": {},
     "output_type": "execute_result"
    }
   ],
   "source": [
    "# step 3 : finding inverse of A\n",
    "A_inv=np.linalg.inv(A)\n",
    "A_inv"
   ]
  },
  {
   "cell_type": "code",
   "execution_count": 65,
   "id": "7dfccaad-4aba-400b-a954-856a57e0b5ca",
   "metadata": {},
   "outputs": [
    {
     "data": {
      "text/plain": [
       "array([[0.],\n",
       "       [0.],\n",
       "       [0.]])"
      ]
     },
     "execution_count": 65,
     "metadata": {},
     "output_type": "execute_result"
    }
   ],
   "source": [
    "# step 4: finding solution by dot product of inverse matrix and constant matrix\n",
    "np.dot(A_inv,D)"
   ]
  },
  {
   "cell_type": "markdown",
   "id": "6c4f5886-165e-41d2-93fd-d62de614bb20",
   "metadata": {},
   "source": [
    "A **trivial solution** refers to the solution of a homogeneous system of linear equations where all the variables are equal to zero. For example, in the context of the equation \\(AX = 0\\), the trivial solution is:\n",
    "\n",
    "$$\n",
    "X = \\begin{bmatrix}\n",
    "0 \\\\\n",
    "0 \\\\\n",
    "\\vdots \\\\\n",
    "0\n",
    "\\end{bmatrix}\n",
    "$$\n",
    "\n",
    "In simpler terms, the trivial solution is the most basic solution to the equation, often indicating that the system is balanced without any influence from the variables. It is particularly relevant in linear algebra, where it signifies that the system of equations has at least one solution (the trivial one), and it is often the starting point for understanding other potential solutions (non-trivial solutions).\n"
   ]
  },
  {
   "cell_type": "code",
   "execution_count": null,
   "id": "24826f77-b6cd-489c-a3cf-b3c26c4eaa75",
   "metadata": {},
   "outputs": [],
   "source": []
  },
  {
   "cell_type": "code",
   "execution_count": null,
   "id": "d9982520-75e1-444f-a6fc-5dd7e2028d39",
   "metadata": {},
   "outputs": [],
   "source": []
  },
  {
   "cell_type": "code",
   "execution_count": null,
   "id": "04260dd2-6ef5-4f33-a4fa-f491a757b320",
   "metadata": {},
   "outputs": [],
   "source": []
  }
 ],
 "metadata": {
  "kernelspec": {
   "display_name": "Python 3 (ipykernel)",
   "language": "python",
   "name": "python3"
  },
  "language_info": {
   "codemirror_mode": {
    "name": "ipython",
    "version": 3
   },
   "file_extension": ".py",
   "mimetype": "text/x-python",
   "name": "python",
   "nbconvert_exporter": "python",
   "pygments_lexer": "ipython3",
   "version": "3.11.7"
  }
 },
 "nbformat": 4,
 "nbformat_minor": 5
}
