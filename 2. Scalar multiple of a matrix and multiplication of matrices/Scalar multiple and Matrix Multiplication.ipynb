{
 "cells": [
  {
   "cell_type": "raw",
   "id": "cb054076-083f-4af7-b1b8-5735db559eae",
   "metadata": {},
   "source": [
    "Prerequired: https://lnkd.in/gFffEzSN"
   ]
  },
  {
   "cell_type": "markdown",
   "id": "f48f6f9c-27f3-45ad-9672-2b7d0d6dee16",
   "metadata": {},
   "source": [
    "## 1. Scalar multiple of a matrix\n",
    "Let A be a matrix of order mxn  and k be a scalar (i.e., real or complex number). Then the mxn matrix obtained by multiplying each element of A by k is called a scalar multiple of A and is denoted by kA.\n",
    "\n",
    "**`If A = [aij]mxn then kA = [kaij]mxn`**"
   ]
  },
  {
   "cell_type": "code",
   "execution_count": 5,
   "id": "c8fd18f5-6745-4491-80f4-05b8eb06e1cb",
   "metadata": {},
   "outputs": [],
   "source": [
    "import numpy as np"
   ]
  },
  {
   "cell_type": "code",
   "execution_count": 7,
   "id": "4b7a3678-f44a-472b-ad2e-dcf909f38ac6",
   "metadata": {},
   "outputs": [],
   "source": [
    "A=np.random.randint(1,11,size=(2,2))"
   ]
  },
  {
   "cell_type": "code",
   "execution_count": 9,
   "id": "4537c845-8559-4f5a-b730-d14678190e9b",
   "metadata": {},
   "outputs": [
    {
     "data": {
      "text/plain": [
       "array([[ 8, 10],\n",
       "       [ 5, 10]])"
      ]
     },
     "execution_count": 9,
     "metadata": {},
     "output_type": "execute_result"
    }
   ],
   "source": [
    "A"
   ]
  },
  {
   "cell_type": "code",
   "execution_count": 11,
   "id": "54b80389-1c19-48d8-a63f-139836fdca29",
   "metadata": {},
   "outputs": [
    {
     "data": {
      "text/plain": [
       "array([[24, 30],\n",
       "       [15, 30]])"
      ]
     },
     "execution_count": 11,
     "metadata": {},
     "output_type": "execute_result"
    }
   ],
   "source": [
    "3*A"
   ]
  },
  {
   "cell_type": "markdown",
   "id": "a909967c-25bd-4050-a91c-f8e0b02d2b2b",
   "metadata": {},
   "source": [
    "**Note:** (-1)A = -A because A + (-1)A = O (null matrix)"
   ]
  },
  {
   "cell_type": "markdown",
   "id": "d83e27db-dfe8-41ba-b983-ea4919d0f0fb",
   "metadata": {},
   "source": [
    "### Theory: Properties of Scalar Multiplication of a Matrix\n",
    "Scalar multiplication of a matrix involves multiplying each element of the matrix by a scalar value. Below are the key properties of scalar multiplication for matrices:"
   ]
  },
  {
   "cell_type": "markdown",
   "id": "af5b5fb7-af80-48cb-95ac-a87e4ae0d676",
   "metadata": {},
   "source": [
    "#### 1. Distributive Property over Matrix Addition:\n",
    "If ( A ) and ( B ) are matrices of the same size, and ( α ) is a scalar, then:\n",
    "\\[ α (A + B) = α A + α B \\]"
   ]
  },
  {
   "cell_type": "code",
   "execution_count": 22,
   "id": "7816b73f-9310-4109-86fa-273e06288a45",
   "metadata": {},
   "outputs": [
    {
     "name": "stdout",
     "output_type": "stream",
     "text": [
      "Distributive Property over Matrix Addition:\n",
      " True\n"
     ]
    }
   ],
   "source": [
    "# Define two matrices A and B\n",
    "A = np.array([[1, 2], \n",
    "              [3, 4]])\n",
    "\n",
    "B = np.array([[5, 6], \n",
    "              [7, 8]])\n",
    "\n",
    "# Define two scalars alpha and beta\n",
    "alpha = 2\n",
    "beta = 3\n",
    "\n",
    "# 1. Distributive Property over Matrix Addition: α(A + B) = αA + αB\n",
    "left_side_1 = alpha * (A + B)\n",
    "right_side_1 = (alpha * A) + (alpha * B)\n",
    "print(\"Distributive Property over Matrix Addition:\\n\", np.array_equal(left_side_1, right_side_1))\n"
   ]
  },
  {
   "cell_type": "markdown",
   "id": "bbdf50a5-f0ef-4653-b127-1f2e1f5f6dde",
   "metadata": {},
   "source": [
    "#### 2. Distributive Property over Scalar Addition:\n",
    "If α and β are scalars and A is a matrix, then:\n",
    "(α + β) A = α A + β A"
   ]
  },
  {
   "cell_type": "code",
   "execution_count": 36,
   "id": "a0f09b88-b5f2-4b29-963f-07d08fa54e79",
   "metadata": {},
   "outputs": [
    {
     "name": "stdout",
     "output_type": "stream",
     "text": [
      "Distributive Property over Scalar Addition:\n",
      " True\n"
     ]
    }
   ],
   "source": [
    "# 2. Distributive Property over Scalar Addition: (α + β)A = αA + βA\n",
    "left_side_2 = (alpha + beta) * A\n",
    "right_side_2 = (alpha * A) + (beta * A)\n",
    "print(\"Distributive Property over Scalar Addition:\\n\", np.array_equal(left_side_2, right_side_2))"
   ]
  },
  {
   "cell_type": "markdown",
   "id": "1fb106b6-36b3-4469-a758-d42f57d04302",
   "metadata": {},
   "source": [
    "#### 3. Associative Property of Scalar Multiplication:\n",
    "If α and β are scalars, and A is a matrix, then:\n",
    "(α β) A = α (β A)\n"
   ]
  },
  {
   "cell_type": "code",
   "execution_count": 34,
   "id": "81433f08-37d7-47f7-9ee0-f11f86fd41b3",
   "metadata": {},
   "outputs": [
    {
     "name": "stdout",
     "output_type": "stream",
     "text": [
      "Associative Property of Scalar Multiplication:\n",
      " True\n"
     ]
    }
   ],
   "source": [
    "# 3. Associative Property of Scalar Multiplication: (αβ)A = α(βA)\n",
    "left_side_3 = (alpha * beta) * A\n",
    "right_side_3 = alpha * (beta * A)\n",
    "print(\"Associative Property of Scalar Multiplication:\\n\", np.array_equal(left_side_3, right_side_3))"
   ]
  },
  {
   "cell_type": "markdown",
   "id": "a6eb95bf-2e1b-4b54-8a96-a4c8b98e35ab",
   "metadata": {},
   "source": [
    "\n",
    "#### 4. Multiplicative Identity:\n",
    "Multiplying a matrix by the scalar 1 leaves the matrix unchanged:\n",
    "1 ⋅ A = A\n"
   ]
  },
  {
   "cell_type": "code",
   "execution_count": 32,
   "id": "9dc8d397-a874-4d86-a8b7-4eca752e13b3",
   "metadata": {},
   "outputs": [
    {
     "name": "stdout",
     "output_type": "stream",
     "text": [
      "Multiplicative Identity:\n",
      " True\n"
     ]
    }
   ],
   "source": [
    "# 4. Multiplicative Identity: 1 * A = A\n",
    "identity_check = np.array_equal(1 * A, A)\n",
    "print(\"Multiplicative Identity:\\n\", identity_check)"
   ]
  },
  {
   "cell_type": "markdown",
   "id": "dd733b55-54b6-488e-ab36-5fcfd8a30730",
   "metadata": {},
   "source": [
    "\n",
    "#### 5. Multiplication by Zero:\n",
    "Multiplying any matrix by the scalar 0 gives the zero matrix:\n",
    "0 ⋅ A = O\n",
    "where O is the zero matrix of the same size as A."
   ]
  },
  {
   "cell_type": "code",
   "execution_count": 30,
   "id": "3eb53ce9-724c-40e5-bb19-6306df66bd7c",
   "metadata": {},
   "outputs": [
    {
     "name": "stdout",
     "output_type": "stream",
     "text": [
      "Multiplication by Zero:\n",
      " True\n"
     ]
    }
   ],
   "source": [
    "# 5. Multiplication by Zero: 0 * A = Zero matrix\n",
    "zero_matrix = np.zeros_like(A)\n",
    "zero_multiplication = np.array_equal(0 * A, zero_matrix)\n",
    "print(\"Multiplication by Zero:\\n\", zero_multiplication)"
   ]
  },
  {
   "cell_type": "markdown",
   "id": "77eba74b-3455-4ba5-a956-5f81f091d4c5",
   "metadata": {},
   "source": [
    "## 2.Matrix Multiplication\n",
    "\n",
    "Matrix multiplication is a fundamental operation in linear algebra, which combines two matrices to produce a third matrix. Unlike scalar multiplication, matrix multiplication follows specific rules for combining the rows and columns of the involved matrices.\n",
    "\n",
    "#### Conditions for Matrix Multiplication\n",
    "Matrix multiplication is only defined when the number of columns in the first matrix is equal to the number of rows in the second matrix.\n",
    "\n",
    "If matrix \\( A \\) is of size \\( m x n \\) and matrix \\( B \\) is of size \\( n x p \\), then their product \\( AB \\) will be a matrix of size \\( m x p \\).\n",
    "\n",
    "- If \\( A \\) is of size \\( m x n \\)\n",
    "- If \\( B \\) is of size \\( n x p \\)\n",
    "- Then \\( A x B \\) will have the size \\( m x p \\)\n",
    "\n",
    "#### Formula for Matrix Multiplication\n",
    "The element at position \\( (i,j) \\) in the resulting matrix is the dot product of the \\( i \\)-th row of matrix \\( A \\) and the \\( j \\)-th column of matrix \\( B \\).\n",
    "\n",
    "Let A = [aik]mxn and B = [bkj]nxp, be two matrices. Then the matrix C = [cij]mxp\n",
    "where cij = (summation k=1 to n)∑aik*bkj is called the product of A and B and is denoted by AB.\n",
    "\n",
    "Where:\n",
    "- \\( {aik} \\) refers to the elements in the \\( i \\)-th row of matrix \\( A \\)\n",
    "- \\( {bkj} \\) refers to the elements in the \\( j \\)-th column of matrix \\( B \\)\n",
    "\n",
    "#### Example of Matrix Multiplication\n",
    "\n",
    "Let \\( A \\) be a \\( 2 x 3 \\) matrix and \\( B \\) be a \\( 3 x 2 \\) matrix:\n",
    "\n",
    "\\\n",
    "A = \\begin{pmatrix} \n",
    "1 & 2 & 3 \\\\\n",
    "4 & 5 & 6 \n",
    "\\end{pmatrix}\n",
    "\\\n",
    "B = \\begin{pmatrix} \n",
    "7 & 8 \\\\\n",
    "9 & 10 \\\\\n",
    "11 & 12 \n",
    "\\end{pmatrix}\n",
    "\n",
    "\n",
    "The product \\( AB \\) will be:\n",
    "\n",
    "\\\n",
    "AB = \\begin{pmatrix} \n",
    "(1 \\cdot 7 + 2 \\cdot 9 + 3 \\cdot 11) & (1 \\cdot 8 + 2 \\cdot 10 + 3 \\cdot 12) \\\\\n",
    "(4 \\cdot 7 + 5 \\cdot 9 + 6 \\cdot 11) & (4 \\cdot 8 + 5 \\cdot 10 + 6 \\cdot 12) \n",
    "\\end{pmatrix}\n",
    "\n",
    "\n",
    "Simplifying the values:\n",
    "\n",
    "\\\n",
    "AB = \\begin{pmatrix} \n",
    "58 & 64 \\\\\n",
    "139 & 154 \n",
    "\\end{pmatrix}\n"
   ]
  },
  {
   "cell_type": "code",
   "execution_count": 17,
   "id": "e5b291c2-871e-4d3b-ba6c-fc9740e16d6d",
   "metadata": {},
   "outputs": [
    {
     "data": {
      "text/plain": [
       "array([[1, 2, 3],\n",
       "       [4, 5, 6]])"
      ]
     },
     "execution_count": 17,
     "metadata": {},
     "output_type": "execute_result"
    }
   ],
   "source": [
    "import numpy as np\n",
    "\n",
    "A=np.arange(1,7).reshape(2,3)\n",
    "A"
   ]
  },
  {
   "cell_type": "code",
   "execution_count": 21,
   "id": "7cb97ee4-eb38-44bb-8719-c3c5e50fb07a",
   "metadata": {},
   "outputs": [
    {
     "data": {
      "text/plain": [
       "array([[ 7,  8],\n",
       "       [ 9, 10],\n",
       "       [11, 12]])"
      ]
     },
     "execution_count": 21,
     "metadata": {},
     "output_type": "execute_result"
    }
   ],
   "source": [
    "B=np.arange(7,13).reshape(3,2)\n",
    "B"
   ]
  },
  {
   "cell_type": "code",
   "execution_count": 23,
   "id": "006f33be-b17d-42dd-a857-ec28baefaff9",
   "metadata": {},
   "outputs": [
    {
     "data": {
      "text/plain": [
       "array([[ 58,  64],\n",
       "       [139, 154]])"
      ]
     },
     "execution_count": 23,
     "metadata": {},
     "output_type": "execute_result"
    }
   ],
   "source": [
    "# we use np.dot() function for matrix multiplication\n",
    "np.dot(A,B)"
   ]
  },
  {
   "cell_type": "markdown",
   "id": "9b68bfcf-dd33-4d63-a51e-cc2e7705ea3a",
   "metadata": {},
   "source": [
    "### Properties of Matrix Multiplication\n",
    "\n",
    "Matrix multiplication follows several important properties. Below are some of the key properties along with Python code to demonstrate them.\n",
    "\n",
    "#### 1. Non-Commutativity\n",
    "\n",
    "In general, matrix multiplication is **not commutative**, meaning that:\n",
    "\\[\n",
    "A x B not equal to B x A\n",
    "\\]\n"
   ]
  },
  {
   "cell_type": "code",
   "execution_count": 36,
   "id": "d75b8e76-aa2e-4511-9772-193c7975012a",
   "metadata": {},
   "outputs": [
    {
     "data": {
      "text/plain": [
       "array([[False, False],\n",
       "       [False, False]])"
      ]
     },
     "execution_count": 36,
     "metadata": {},
     "output_type": "execute_result"
    }
   ],
   "source": [
    "# Define two matrices\n",
    "A = np.array([[1, 2], [3, 4]])\n",
    "B = np.array([[5, 6], [7, 8]])\n",
    "\n",
    "# Matrix multiplication in both orders\n",
    "AB = np.dot(A, B)\n",
    "BA = np.dot(B, A)\n",
    "AB==BA\n"
   ]
  },
  {
   "cell_type": "markdown",
   "id": "221eeeac-d411-4a84-ac2c-dfb2c4506861",
   "metadata": {},
   "source": [
    "#### 2. Associativity\n",
    "Matrix multiplication is associative, which means that:\n",
    "\n",
    "(𝐴 × 𝐵)×𝐶=𝐴×(𝐵×𝐶)\n"
   ]
  },
  {
   "cell_type": "code",
   "execution_count": 39,
   "id": "b81e9bd3-587d-4289-9185-29410275fba9",
   "metadata": {},
   "outputs": [
    {
     "name": "stdout",
     "output_type": "stream",
     "text": [
      "Left associative (A * B) * C:\n",
      " [[ 413  454]\n",
      " [ 937 1030]]\n",
      "Right associative A * (B * C):\n",
      " [[ 413  454]\n",
      " [ 937 1030]]\n"
     ]
    }
   ],
   "source": [
    "# Define three matrices\n",
    "A = np.array([[1, 2], [3, 4]])\n",
    "B = np.array([[5, 6], [7, 8]])\n",
    "C = np.array([[9, 10], [11, 12]])\n",
    "\n",
    "# Associative property\n",
    "left_associative = np.dot(np.dot(A, B), C)\n",
    "right_associative = np.dot(A, np.dot(B, C))\n",
    "\n",
    "print(\"Left associative (A * B) * C:\\n\", left_associative)\n",
    "print(\"Right associative A * (B * C):\\n\", right_associative)\n"
   ]
  },
  {
   "cell_type": "markdown",
   "id": "d25fd3ad-fb4f-4282-8333-2f6e82afedcf",
   "metadata": {},
   "source": [
    "#### 3. Distributivity\n",
    "Matrix multiplication is distributive over addition:\n",
    "\n",
    "A×(B+C)=A×B+A×C\n",
    "\n",
    "and\n",
    "\n",
    "(B+C)×A=B×A+C×A"
   ]
  },
  {
   "cell_type": "code",
   "execution_count": 43,
   "id": "3f9d93d8-0779-49a9-803f-515a9eee11b2",
   "metadata": {},
   "outputs": [
    {
     "name": "stdout",
     "output_type": "stream",
     "text": [
      "A * (B + C):\n",
      " [[ 50  56]\n",
      " [114 128]]\n",
      "A * B + A * C:\n",
      " [[ 50  56]\n",
      " [114 128]]\n"
     ]
    }
   ],
   "source": [
    "# Define three matrices\n",
    "A = np.array([[1, 2], [3, 4]])\n",
    "B = np.array([[5, 6], [7, 8]])\n",
    "C = np.array([[9, 10], [11, 12]])\n",
    "\n",
    "# Distributive property: A * (B + C) = A * B + A * C\n",
    "lhs = np.dot(A, B + C)  # Left-hand side\n",
    "rhs = np.dot(A, B) + np.dot(A, C)  # Right-hand side\n",
    "\n",
    "print(\"A * (B + C):\\n\", lhs)\n",
    "print(\"A * B + A * C:\\n\", rhs)\n"
   ]
  },
  {
   "cell_type": "markdown",
   "id": "4d3a8319-9350-490a-b875-7e16111efe73",
   "metadata": {},
   "source": [
    "#### 4. Multiplication by Identity Matrix\n",
    "The identity matrix \n",
    "𝐼\n",
    "I has the property that multiplying it by any matrix \n",
    "A results in \n",
    "A:\n",
    "\n",
    "\n",
    "A×I=A\n",
    "and\n",
    "\n",
    "I×A=A\n",
    "Where \n",
    "𝐼\n",
    "I is the identity matrix."
   ]
  },
  {
   "cell_type": "code",
   "execution_count": 52,
   "id": "d77799c3-800c-4286-b47e-734b5f8a7e13",
   "metadata": {},
   "outputs": [
    {
     "name": "stdout",
     "output_type": "stream",
     "text": [
      "A * I:\n",
      " [[1. 2.]\n",
      " [3. 4.]]\n",
      "I * A:\n",
      " [[1. 2.]\n",
      " [3. 4.]]\n"
     ]
    }
   ],
   "source": [
    "# Define a matrix\n",
    "A = np.array([[1, 2], [3, 4]])\n",
    "\n",
    "# Identity matrix\n",
    "I = np.eye(2)\n",
    "\n",
    "# Multiplying by identity matrix\n",
    "AI = np.dot(A, I)\n",
    "IA = np.dot(I, A)\n",
    "\n",
    "print(\"A * I:\\n\", AI)\n",
    "print(\"I * A:\\n\", IA)\n"
   ]
  },
  {
   "cell_type": "markdown",
   "id": "4dabca63-3b36-4d9f-bc3e-ece790113244",
   "metadata": {},
   "source": [
    "#### 5. Zero Matrix Property\n",
    "Multiplying any matrix by a zero matrix results in a zero matrix:\n",
    "\n",
    "A×0=0\n",
    "Where \n",
    "0 is the zero matrix of the same size as \n",
    "A."
   ]
  },
  {
   "cell_type": "code",
   "execution_count": 58,
   "id": "7d66c017-c103-4d15-827d-5b15d6712ce8",
   "metadata": {},
   "outputs": [
    {
     "name": "stdout",
     "output_type": "stream",
     "text": [
      "A * 0 (zero matrix):\n",
      " [[0. 0.]\n",
      " [0. 0.]]\n"
     ]
    }
   ],
   "source": [
    "# Define a matrix\n",
    "A = np.array([[1, 2], [3, 4]])\n",
    "\n",
    "# Zero matrix\n",
    "Z = np.zeros((2, 2))\n",
    "\n",
    "# Multiplying by zero matrix\n",
    "AZ = np.dot(A, Z)\n",
    "\n",
    "print(\"A * 0 (zero matrix):\\n\", AZ)\n"
   ]
  },
  {
   "cell_type": "markdown",
   "id": "a21214f5-8803-4e55-b5ea-f96ee2dae652",
   "metadata": {},
   "source": [
    "## 3. Transpose of a matrix\n",
    "If A = [aij] is an mxn matrix, then the matrix obtained by interchanging the rows and columns of A is called the **`transpose of A`**. \n",
    "\n",
    "Transpose of the matrix A is denoted by A' or A power T. In other words, if A = [aij]mxn, then A' = [aji]nxm"
   ]
  },
  {
   "cell_type": "code",
   "execution_count": 28,
   "id": "ef305f12-5f5f-4f35-98ef-993a0fb597a3",
   "metadata": {},
   "outputs": [
    {
     "data": {
      "text/plain": [
       "array([[1, 2, 3],\n",
       "       [4, 5, 6]])"
      ]
     },
     "execution_count": 28,
     "metadata": {},
     "output_type": "execute_result"
    }
   ],
   "source": [
    "import numpy as np\n",
    "A=np.arange(1,7).reshape(2,3)\n",
    "A"
   ]
  },
  {
   "cell_type": "code",
   "execution_count": 36,
   "id": "8f3348f9-d332-4bfa-8bb2-77e648490fa7",
   "metadata": {},
   "outputs": [
    {
     "data": {
      "text/plain": [
       "array([[1, 4],\n",
       "       [2, 5],\n",
       "       [3, 6]])"
      ]
     },
     "execution_count": 36,
     "metadata": {},
     "output_type": "execute_result"
    }
   ],
   "source": [
    "# funtion 1\n",
    "np.transpose(A)"
   ]
  },
  {
   "cell_type": "code",
   "execution_count": 34,
   "id": "3e2e7531-f44a-44b9-9738-f9cbe8ff3c6d",
   "metadata": {},
   "outputs": [
    {
     "data": {
      "text/plain": [
       "array([[1, 4],\n",
       "       [2, 5],\n",
       "       [3, 6]])"
      ]
     },
     "execution_count": 34,
     "metadata": {},
     "output_type": "execute_result"
    }
   ],
   "source": [
    "# function 2\n",
    "A.T"
   ]
  },
  {
   "cell_type": "markdown",
   "id": "17318c76-42c2-45c7-bbd0-9abe0e38ffd2",
   "metadata": {},
   "source": [
    "## 3.1 Properties of Transpose of matrices"
   ]
  },
  {
   "cell_type": "code",
   "execution_count": 46,
   "id": "343339d5-619d-497d-8fc5-c9f5de1e45a5",
   "metadata": {},
   "outputs": [
    {
     "data": {
      "text/plain": [
       "array([[ True,  True,  True],\n",
       "       [ True,  True,  True]])"
      ]
     },
     "execution_count": 46,
     "metadata": {},
     "output_type": "execute_result"
    }
   ],
   "source": [
    "# 1. (A')'= A\n",
    "(A.T).T == A"
   ]
  },
  {
   "cell_type": "code",
   "execution_count": 50,
   "id": "e1f58f0e-10ef-42c2-bc12-cab8eef33ca9",
   "metadata": {},
   "outputs": [
    {
     "data": {
      "text/plain": [
       "array([[ True,  True],\n",
       "       [ True,  True],\n",
       "       [ True,  True]])"
      ]
     },
     "execution_count": 50,
     "metadata": {},
     "output_type": "execute_result"
    }
   ],
   "source": [
    "# 2. (kA)' = kA'\n",
    "k=3\n",
    "(k*A).T==k*A.T"
   ]
  },
  {
   "cell_type": "code",
   "execution_count": 52,
   "id": "8c9c3a34-44ad-4bdd-927b-87d01dbe6f58",
   "metadata": {},
   "outputs": [
    {
     "data": {
      "text/plain": [
       "array([[ True,  True],\n",
       "       [ True,  True],\n",
       "       [ True,  True]])"
      ]
     },
     "execution_count": 52,
     "metadata": {},
     "output_type": "execute_result"
    }
   ],
   "source": [
    "# 3. (A+B)'=A'+B'\n",
    "A=np.arange(1,7).reshape(2,3)\n",
    "B=np.arange(1,7).reshape(2,3)\n",
    "\n",
    "(A+B).T==A.T+B.T"
   ]
  },
  {
   "cell_type": "code",
   "execution_count": 56,
   "id": "8faecaa0-5607-4650-8639-2b1a8cbe3345",
   "metadata": {},
   "outputs": [
    {
     "data": {
      "text/plain": [
       "array([[ True,  True],\n",
       "       [ True,  True],\n",
       "       [ True,  True]])"
      ]
     },
     "execution_count": 56,
     "metadata": {},
     "output_type": "execute_result"
    }
   ],
   "source": [
    "# 4. (AB)'=B'A'\n",
    "(A*B).T== B.T * A.T"
   ]
  },
  {
   "cell_type": "markdown",
   "id": "f96fde06-eb77-4831-8bfd-38c0891dbd93",
   "metadata": {},
   "source": [
    "#### Note 1: Symmentric matrix\n",
    "A square matrix A is said to be `**symmentric**` if A'= A"
   ]
  },
  {
   "cell_type": "code",
   "execution_count": 68,
   "id": "cd0116f3-f0b2-48f2-af1b-65551ff09194",
   "metadata": {},
   "outputs": [
    {
     "data": {
      "text/plain": [
       "array([[0., 0., 0.],\n",
       "       [0., 0., 0.],\n",
       "       [0., 0., 0.]])"
      ]
     },
     "execution_count": 68,
     "metadata": {},
     "output_type": "execute_result"
    }
   ],
   "source": [
    "np.zeros((3,3)) # zero matrix is symmetric"
   ]
  },
  {
   "cell_type": "code",
   "execution_count": 70,
   "id": "6e48bf43-ca1c-4dd3-933a-50df59bbd89c",
   "metadata": {},
   "outputs": [
    {
     "data": {
      "text/plain": [
       "array([[1., 0., 0.],\n",
       "       [0., 1., 0.],\n",
       "       [0., 0., 1.]])"
      ]
     },
     "execution_count": 70,
     "metadata": {},
     "output_type": "execute_result"
    }
   ],
   "source": [
    "np.eye(3,3) # unit matrix is symmetric"
   ]
  },
  {
   "cell_type": "code",
   "execution_count": 72,
   "id": "68cd979b-de6d-4bc1-8518-4585700bdc08",
   "metadata": {},
   "outputs": [
    {
     "data": {
      "text/plain": [
       "array([[5., 0., 0.],\n",
       "       [0., 5., 0.],\n",
       "       [0., 0., 5.]])"
      ]
     },
     "execution_count": 72,
     "metadata": {},
     "output_type": "execute_result"
    }
   ],
   "source": [
    "np.eye(3,3)*5 # diagonal matrix is symmetric"
   ]
  },
  {
   "cell_type": "markdown",
   "id": "09a7b036-c573-4e4f-aebd-f053a478e5ac",
   "metadata": {},
   "source": [
    "#### Skew-symmentric matrix\n",
    "A square matrix A is said to be **`skew-symmentric`** if A'= -A"
   ]
  }
 ],
 "metadata": {
  "kernelspec": {
   "display_name": "Python 3 (ipykernel)",
   "language": "python",
   "name": "python3"
  },
  "language_info": {
   "codemirror_mode": {
    "name": "ipython",
    "version": 3
   },
   "file_extension": ".py",
   "mimetype": "text/x-python",
   "name": "python",
   "nbconvert_exporter": "python",
   "pygments_lexer": "ipython3",
   "version": "3.11.7"
  }
 },
 "nbformat": 4,
 "nbformat_minor": 5
}
