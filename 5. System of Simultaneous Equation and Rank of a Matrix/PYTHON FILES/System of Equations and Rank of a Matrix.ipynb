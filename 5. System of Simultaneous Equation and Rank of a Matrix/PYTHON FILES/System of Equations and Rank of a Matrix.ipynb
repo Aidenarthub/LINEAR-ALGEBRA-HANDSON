{
 "cells": [
  {
   "cell_type": "markdown",
   "id": "7eac125c-03aa-4440-b033-46d0fb608ebb",
   "metadata": {},
   "source": [
    "### Non-Homogeneous Equation\n",
    "A **non-homogeneous equation** is a linear equation in which the sum of the product of variables and their coefficients is equal to a non-zero constant. In general, it can be represented as:\n",
    "\n",
    "$[\n",
    "a_1 x_1 + a_2 x_2 + \\cdots + a_n x_n = D\n",
    "]$\n",
    "\n",
    "where $( D \\neq 0 )$. Here, $( a_1, a_2, \\dots, a_n )$ are the coefficients, and $( D )$ is a non-zero constant.\n",
    "\n",
    "### Matrix Representation of Non-Homogeneous Equation\n",
    "The system of non-homogeneous linear equations can be represented in matrix form as:\n",
    "\n",
    "$[\n",
    "A \\mathbf{x} = \\mathbf{D}\n",
    "]$\n",
    "\n",
    "where:\n",
    "\n",
    "- $( A )$ is a matrix of coefficients,\n",
    "- $( \\mathbf{x} )$ is a column vector of the variables,\n",
    "- $( \\mathbf{D} )$ is a column vector of constants.\n",
    "\n",
    "For example, consider a system of equations:\n",
    "\n",
    "$\n",
    "\\begin{cases}\n",
    "a_{11} x_1 + a_{12} x_2 = D_1 \\\\\n",
    "a_{21} x_1 + a_{22} x_2 = D_2\n",
    "\\end{cases}\n",
    "$\n",
    "\n",
    "The matrix form is:\n",
    "\n",
    "$[\n",
    "\\begin{bmatrix} a_{11} & a_{12} \\\\ a_{21} & a_{22} \\end{bmatrix}\n",
    "\\begin{bmatrix} x_1 \\\\ x_2 \\end{bmatrix}\n",
    "= \\begin{bmatrix} D_1 \\\\ D_2 \\end{bmatrix}\n",
    "]$\n",
    "\n",
    "### Augmented Matrix\n",
    "The **augmented matrix** is a way to represent a system of linear equations by combining the coefficient matrix and the constant vector into a single matrix. It is constructed by appending the vector $( \\mathbf{D} )$ to the coefficient matrix $( A )$.\n",
    "\n",
    "For the example given above, the augmented matrix is:\n",
    "\n",
    "$[\n",
    "\\left[ A \\,|\\, \\mathbf{D} \\right] = \\begin{bmatrix} a_{11} & a_{12} & | & D_1 \\\\ a_{21} & a_{22} & | & D_2 \\end{bmatrix}\n",
    "]$\n",
    "\n",
    "This form is often used to solve systems of equations using methods such as Gaussian elimination.\n",
    "\n",
    "### Homogeneous Equation\n",
    "A **homogeneous equation** is a linear equation in which the sum of the product of variables and their coefficients is equal to zero. In general, it can be represented as:\n",
    "\n",
    "$[\n",
    "a_1 x_1 + a_2 x_2 + \\cdots + a_n x_n = 0\n",
    "]$\n",
    "\n",
    "Here, the constant term is zero, meaning that the system always has at least one solution, known as the **trivial solution**, where all variables are equal to zero $((x_1 = x_2 = \\cdots = x_n = 0))$.\n",
    "\n",
    "### Matrix Form of Homogeneous Equation\n",
    "The system of homogeneous linear equations can also be represented in matrix form as:\n",
    "\n",
    "$[\n",
    "A \\mathbf{x} = \\mathbf{0}\n",
    "]$\n",
    "\n",
    "where:\n",
    "\n",
    "- $( A )$ is a matrix of coefficients,\n",
    "- $( \\mathbf{x} )$ is a column vector of variables,\n",
    "- $( \\mathbf{0} )$ is a column vector of zeros.\n",
    "\n",
    "For the same system of equations without the constant vector:\n",
    "\n",
    "$[\n",
    "\\begin{cases}\n",
    "a_{11} x_1 + a_{12} x_2 = 0 \\\\\n",
    "a_{21} x_1 + a_{22} x_2 = 0\n",
    "\\end{cases}\n",
    "]$\n",
    "\n",
    "The matrix form is:\n",
    "\n",
    "$[\n",
    "\\begin{bmatrix} a_{11} & a_{12} \\\\ a_{21} & a_{22} \\end{bmatrix}\n",
    "\\begin{bmatrix} x_1 \\\\ x_2 \\end{bmatrix}\n",
    "= \\begin{bmatrix} 0 \\\\ 0 \\end{bmatrix}\n",
    "]$\n"
   ]
  },
  {
   "cell_type": "markdown",
   "id": "d845d4cb-34ae-435d-bc3c-1c6a2c0432c8",
   "metadata": {},
   "source": [
    "### Submatrix\n",
    "A **submatrix** is a matrix formed by deleting one or more rows and/or columns from a given matrix. In other words, a submatrix is derived by selecting certain rows and columns of a larger matrix.\n",
    "\n",
    "#### Example\n",
    "Consider a matrix $( A )$:\n",
    "\n",
    "$[\n",
    "A = \\begin{bmatrix}\n",
    "1 & 2 & 3 \\\\\n",
    "4 & 5 & 6 \\\\\n",
    "7 & 8 & 9\n",
    "\\end{bmatrix}\n",
    "]$\n",
    "\n",
    "- **Example 1**: Deleting the 1st row and 1st column results in the submatrix:\n",
    "\n",
    "$[\n",
    "\\begin{bmatrix}\n",
    "5 & 6 \\\\\n",
    "8 & 9\n",
    "\\end{bmatrix}\n",
    "]$\n",
    "\n",
    "- **Example 2**: Deleting the 2nd row results in the submatrix:\n",
    "\n",
    "\\[\n",
    "\\begin{bmatrix}\n",
    "1 & 2 & 3 \\\\\n",
    "7 & 8 & 9\n",
    "\\end{bmatrix}\n",
    "]$\n",
    "\n",
    "- **Example 3**: Deleting the 3rd column results in the submatrix:\n",
    "\n",
    "$[\n",
    "\\begin{bmatrix}\n",
    "1 & 2 \\\\\n",
    "4 & 5 \\\\\n",
    "7 & 8\n",
    "\\end{bmatrix}\n",
    "]$\n"
   ]
  },
  {
   "cell_type": "markdown",
   "id": "7b4b5724-08d1-4593-849d-5d2b86754728",
   "metadata": {},
   "source": [
    "### Rank of a Matrix\n",
    "The **rank** of a matrix is the maximum number of linearly independent rows or columns in the matrix. It represents the dimension of the vector space spanned by its rows or columns.\n",
    "\n"
   ]
  },
  {
   "cell_type": "code",
   "execution_count": 8,
   "id": "18a1dffa-de7f-4cb9-86c1-2289c9b090f7",
   "metadata": {},
   "outputs": [],
   "source": [
    "import numpy as np"
   ]
  },
  {
   "cell_type": "code",
   "execution_count": 12,
   "id": "723891a1-beec-4b43-a762-ea9cc8d7ebef",
   "metadata": {},
   "outputs": [
    {
     "data": {
      "text/plain": [
       "array([[1, 2, 3],\n",
       "       [4, 5, 6],\n",
       "       [7, 8, 9]])"
      ]
     },
     "execution_count": 12,
     "metadata": {},
     "output_type": "execute_result"
    }
   ],
   "source": [
    "arr=np.array([[1,2,3],[4,5,6],[7,8,9]])\n",
    "arr"
   ]
  },
  {
   "cell_type": "code",
   "execution_count": 14,
   "id": "05e2e9e7-f5f1-4c3a-a93a-d840c369bf63",
   "metadata": {},
   "outputs": [
    {
     "data": {
      "text/plain": [
       "2"
      ]
     },
     "execution_count": 14,
     "metadata": {},
     "output_type": "execute_result"
    }
   ],
   "source": [
    "np.linalg.matrix_rank(arr)"
   ]
  },
  {
   "cell_type": "markdown",
   "id": "ddc6d3ff-7d3b-4fe8-887d-b563e653380a",
   "metadata": {},
   "source": [
    "#### Examples\n",
    "\n",
    "1. **Rank 1**: The rank of a matrix is 1 if every $( 2 \\times 2 )$ submatrix is singular (i.e., the determinant of each $( 2 \\times 2 )$ submatrix is zero).\n",
    "\n"
   ]
  },
  {
   "cell_type": "code",
   "execution_count": 11,
   "id": "d5e651fe-6f60-4b63-bf74-a0569206e615",
   "metadata": {},
   "outputs": [
    {
     "name": "stdout",
     "output_type": "stream",
     "text": [
      "Rank 1: False\n"
     ]
    }
   ],
   "source": [
    "import numpy as np\n",
    "\n",
    "# Example matrix of rank 1\n",
    "A = np.array([[1, 2, 3],\n",
    "            [2, 4, 6],\n",
    "            [3, 6, 9]])\n",
    "\n",
    "# Check if all 2x2 submatrices are singular\n",
    "def is_rank_1(matrix):\n",
    "    n = matrix.shape[0]\n",
    "    for i in range(n - 1):\n",
    "        for j in range(n - 1):\n",
    "            submatrix = matrix[i:i+2, j:j+2]\n",
    "            if np.linalg.det(submatrix) != 0:\n",
    "                return False\n",
    "    return True\n",
    "\n",
    "print(\"Rank 1:\", is_rank_1(A))  # Output: True"
   ]
  },
  {
   "cell_type": "markdown",
   "id": "8cf74d7b-7378-4318-b680-5251712c12e5",
   "metadata": {},
   "source": [
    "**Rank 2:** The rank of a matrix is 2 if the matrix itself is singular, but at least one of its \n",
    "2×2 submatrices is non-singular."
   ]
  },
  {
   "cell_type": "code",
   "execution_count": 29,
   "id": "bdb04cee-dde2-4aa7-aa87-fb8528251555",
   "metadata": {},
   "outputs": [
    {
     "name": "stdout",
     "output_type": "stream",
     "text": [
      "Rank 2: False\n"
     ]
    }
   ],
   "source": [
    "# Example matrix of rank 2\n",
    "B = np.array([[1, 2, 3],\n",
    "              [4, 5, 6],\n",
    "              [7, 8, 9]])\n",
    "\n",
    "# Check if matrix is singular and at least one 2x2 submatrix is non-singular\n",
    "def is_rank_2(matrix):\n",
    "    if np.linalg.det(matrix) != 0:\n",
    "        return False\n",
    "    n = matrix.shape[0]\n",
    "    for i in range(n - 1):\n",
    "        for j in range(n - 1):\n",
    "            submatrix = matrix[i:i+2, j:j+2]\n",
    "            if np.linalg.det(submatrix) != 0:\n",
    "                return True\n",
    "    return False\n",
    "\n",
    "print(\"Rank 2:\", is_rank_2(B))  # Output: True\n"
   ]
  },
  {
   "cell_type": "markdown",
   "id": "67be25dd-47aa-4e18-a599-2069d1bad3b7",
   "metadata": {},
   "source": [
    "**Rank 3:** The rank of a 3×3 matrix is 3 if the matrix is non-singular (i.e., its determinant is non-zero)."
   ]
  },
  {
   "cell_type": "code",
   "execution_count": 32,
   "id": "ebd7f94a-6fc1-46a4-b0ed-66a2fb2056c4",
   "metadata": {},
   "outputs": [
    {
     "name": "stdout",
     "output_type": "stream",
     "text": [
      "Rank 3: True\n"
     ]
    }
   ],
   "source": [
    "# Example matrix of rank 3\n",
    "C = np.array([[1, 2, 1],\n",
    "              [0, 1, 2],\n",
    "              [3, 4, 5]])\n",
    "\n",
    "# Check if matrix is non-singular\n",
    "def is_rank_3(matrix):\n",
    "    return np.linalg.det(matrix) != 0\n",
    "\n",
    "print(\"Rank 3:\", is_rank_3(C))  # Output: True\n"
   ]
  },
  {
   "cell_type": "code",
   "execution_count": null,
   "id": "ffb1caca-854d-46c9-a326-7c589c85816b",
   "metadata": {},
   "outputs": [],
   "source": []
  }
 ],
 "metadata": {
  "kernelspec": {
   "display_name": "Python 3 (ipykernel)",
   "language": "python",
   "name": "python3"
  },
  "language_info": {
   "codemirror_mode": {
    "name": "ipython",
    "version": 3
   },
   "file_extension": ".py",
   "mimetype": "text/x-python",
   "name": "python",
   "nbconvert_exporter": "python",
   "pygments_lexer": "ipython3",
   "version": "3.11.7"
  }
 },
 "nbformat": 4,
 "nbformat_minor": 5
}
