{
 "cells": [
  {
   "cell_type": "markdown",
   "id": "e17b15e4-d70d-4687-aad5-17d0ec26aba5",
   "metadata": {},
   "source": [
    "##### **Matrix:** An ordered rectangular array of elements is called a matrix.\n",
    "##### **Order of Matrix:** A matrix having m rows and n columns is said to be of order mxn,\n",
    "##### read as m cross n or m by n"
   ]
  },
  {
   "cell_type": "markdown",
   "id": "ac84089f-073f-4e14-9478-3e6d7996e555",
   "metadata": {},
   "source": [
    "## Types of matrices"
   ]
  },
  {
   "cell_type": "markdown",
   "id": "1060ad63-b467-43b9-8f19-405174e2a96d",
   "metadata": {},
   "source": [
    "### 1. Square matrix:\n",
    "A matrix in which the number of rows is equal to the number of columns, is called as **square matrix**."
   ]
  },
  {
   "cell_type": "code",
   "execution_count": 4,
   "id": "aa0675c1-7eab-4936-ba15-c5f18a463b86",
   "metadata": {},
   "outputs": [],
   "source": [
    "import numpy as np"
   ]
  },
  {
   "cell_type": "code",
   "execution_count": 5,
   "id": "eb50afbc-4e92-43aa-90d7-c7e31209dfdf",
   "metadata": {},
   "outputs": [],
   "source": [
    "square_matrix=np.array([[2,1],[3,2]])"
   ]
  },
  {
   "cell_type": "code",
   "execution_count": 6,
   "id": "daf03937-01fc-4f39-885a-f00ca7db3920",
   "metadata": {},
   "outputs": [
    {
     "data": {
      "text/plain": [
       "array([[2, 1],\n",
       "       [3, 2]])"
      ]
     },
     "execution_count": 6,
     "metadata": {},
     "output_type": "execute_result"
    }
   ],
   "source": [
    "square_matrix"
   ]
  },
  {
   "cell_type": "code",
   "execution_count": 7,
   "id": "eec81269-42fa-487e-88b8-171856a2dfee",
   "metadata": {},
   "outputs": [
    {
     "name": "stdout",
     "output_type": "stream",
     "text": [
      "square_matrix has 2 rows and 2 columns\n"
     ]
    }
   ],
   "source": [
    "print(f'square_matrix has {square_matrix.shape[0]} rows and {square_matrix.shape[1]} columns')"
   ]
  },
  {
   "cell_type": "markdown",
   "id": "9ec39af2-61f6-40af-a94a-050e7e355864",
   "metadata": {},
   "source": [
    "**Note 1:** if A=[aij] is a square matrix of order n, the elements a11,a22,...,ann are said to consstitute its **`Principal diagonal`** or simply the **`diagonal`**. Hense aij is an element  of the diagonal according as i = j and aij is an element of the non-diagonal according as i != j"
   ]
  },
  {
   "cell_type": "code",
   "execution_count": 13,
   "id": "fa6c5eb8-9832-4fec-b08d-8aab02114b95",
   "metadata": {},
   "outputs": [
    {
     "data": {
      "text/plain": [
       "array([2, 2])"
      ]
     },
     "execution_count": 13,
     "metadata": {},
     "output_type": "execute_result"
    }
   ],
   "source": [
    "np.diag(square_matrix)"
   ]
  },
  {
   "cell_type": "code",
   "execution_count": 15,
   "id": "5c1280ad-8fb1-42ad-bcf1-e8e69f4f0745",
   "metadata": {},
   "outputs": [
    {
     "data": {
      "text/plain": [
       "array([2, 2])"
      ]
     },
     "execution_count": 15,
     "metadata": {},
     "output_type": "execute_result"
    }
   ],
   "source": [
    "np.diagonal(square_matrix)"
   ]
  },
  {
   "cell_type": "markdown",
   "id": "cd0e3465-a367-4c1e-8e97-f959cbf87242",
   "metadata": {},
   "source": [
    "**Note 2:** The sum of the elements of the diagonal of a square matrix A is called the **`trace`** of A and is denoted by Tr(A)"
   ]
  },
  {
   "cell_type": "code",
   "execution_count": 18,
   "id": "b6325596-f302-4916-82c0-e34856f844e6",
   "metadata": {},
   "outputs": [
    {
     "data": {
      "text/plain": [
       "4"
      ]
     },
     "execution_count": 18,
     "metadata": {},
     "output_type": "execute_result"
    }
   ],
   "source": [
    "np.trace(square_matrix)"
   ]
  },
  {
   "cell_type": "markdown",
   "id": "d0d7140d-5c67-4e9a-a84f-42620e62252d",
   "metadata": {},
   "source": [
    "### 2. Diagonal matrix\n",
    "if each non-diagonal element of a square matrix is equal to zero, then the matrix is called a **`diagonal matrix`**"
   ]
  },
  {
   "cell_type": "code",
   "execution_count": 21,
   "id": "fdc5a1c8-2d19-4b55-931b-8eb30cfd5244",
   "metadata": {},
   "outputs": [
    {
     "data": {
      "text/plain": [
       "array([[1, 0, 0],\n",
       "       [0, 2, 0],\n",
       "       [0, 0, 3]])"
      ]
     },
     "execution_count": 21,
     "metadata": {},
     "output_type": "execute_result"
    }
   ],
   "source": [
    "np.diag([1,2,3])"
   ]
  },
  {
   "cell_type": "markdown",
   "id": "05d270b4-607d-43cb-95a4-425beb086898",
   "metadata": {},
   "source": [
    "**Note:** if A=[aij]nxn is a diagonal matrix,it is sometimes denoted  as `diag [a11,a22,...,ann]`"
   ]
  },
  {
   "cell_type": "markdown",
   "id": "63eac63b-88fa-4ea4-890e-647d5097214c",
   "metadata": {},
   "source": [
    "### 3. Scalar matrix\n",
    "if each non-diagonal elements of a square matrix is zero and all diagonal elements are equal to each other, then it is called a **'scalar matrix'**\n"
   ]
  },
  {
   "cell_type": "code",
   "execution_count": 25,
   "id": "cd7617c0-e526-4756-80c5-bf062f3656ad",
   "metadata": {},
   "outputs": [],
   "source": [
    "def scalar_matrix(input,size):\n",
    "    \"\"\" creates scalar matrix\"\"\"\n",
    "    return input*np.eye(size)"
   ]
  },
  {
   "cell_type": "code",
   "execution_count": 27,
   "id": "e9784070-be96-4af5-aadb-5cea2d62edec",
   "metadata": {},
   "outputs": [
    {
     "data": {
      "text/plain": [
       "array([[4., 0., 0.],\n",
       "       [0., 4., 0.],\n",
       "       [0., 0., 4.]])"
      ]
     },
     "execution_count": 27,
     "metadata": {},
     "output_type": "execute_result"
    }
   ],
   "source": [
    "scalar_matrix(4,3)"
   ]
  },
  {
   "cell_type": "code",
   "execution_count": 29,
   "id": "4c5c1fbe-782b-47b1-a2f7-1cc547c201c6",
   "metadata": {},
   "outputs": [
    {
     "data": {
      "text/plain": [
       "array([[0., 0., 0.],\n",
       "       [0., 0., 0.],\n",
       "       [0., 0., 0.]])"
      ]
     },
     "execution_count": 29,
     "metadata": {},
     "output_type": "execute_result"
    }
   ],
   "source": [
    "# Note below one also scalar matrix\n",
    "scalar_matrix(0,3)"
   ]
  },
  {
   "cell_type": "markdown",
   "id": "b1021aba-e5b2-4b53-93bb-12b34fe8364c",
   "metadata": {},
   "source": [
    "### 4. Unit (Identity) matrix\n",
    "If each non-diagonal element of square matrix is equal to zero and each diagonal element is equal to 1, then that matrix is called a **`Unit matrix`** or **`Identity matrix`**.\n",
    "\n",
    "We denote the unit matrix of order n by `In`, or simply by `I`, when there is no ambiguity about the order.\n",
    "\n",
    "Note: [aij]nxn is a unit matrix,\n",
    "if and if only aij = 1 if i = j and aij = 0 if i != j"
   ]
  },
  {
   "cell_type": "code",
   "execution_count": 32,
   "id": "475e3b32-8a94-4d79-b00b-b0b8f883cd4f",
   "metadata": {},
   "outputs": [
    {
     "data": {
      "text/plain": [
       "array([[1., 0.],\n",
       "       [0., 1.]])"
      ]
     },
     "execution_count": 32,
     "metadata": {},
     "output_type": "execute_result"
    }
   ],
   "source": [
    "np.eye(2)"
   ]
  },
  {
   "cell_type": "code",
   "execution_count": 34,
   "id": "0dd1b33f-e830-498e-b1b4-606daf52340f",
   "metadata": {},
   "outputs": [
    {
     "data": {
      "text/plain": [
       "array([[1., 0., 0.],\n",
       "       [0., 1., 0.],\n",
       "       [0., 0., 1.]])"
      ]
     },
     "execution_count": 34,
     "metadata": {},
     "output_type": "execute_result"
    }
   ],
   "source": [
    "np.eye(3)"
   ]
  },
  {
   "cell_type": "code",
   "execution_count": 36,
   "id": "028b0416-7404-420c-b0cb-58a964a7b737",
   "metadata": {},
   "outputs": [
    {
     "data": {
      "text/plain": [
       "array([[1., 0., 0., 0.],\n",
       "       [0., 1., 0., 0.],\n",
       "       [0., 0., 1., 0.],\n",
       "       [0., 0., 0., 1.]])"
      ]
     },
     "execution_count": 36,
     "metadata": {},
     "output_type": "execute_result"
    }
   ],
   "source": [
    "np.eye(4)"
   ]
  },
  {
   "cell_type": "markdown",
   "id": "b941bc6b-58ef-480c-bc92-eebdf618e6b7",
   "metadata": {},
   "source": [
    "### 5. Null matrix or Zero matrix\n",
    "if each element of a matrix is zero,then it is called a Null matrix or Zero matrix. It is denoted by Omxn or simply by O."
   ]
  },
  {
   "cell_type": "code",
   "execution_count": 64,
   "id": "8e714995-e00f-489b-9adb-a13d33d1bb7e",
   "metadata": {},
   "outputs": [
    {
     "data": {
      "text/plain": [
       "array([[0, 0, 0],\n",
       "       [0, 0, 0],\n",
       "       [0, 0, 0]])"
      ]
     },
     "execution_count": 64,
     "metadata": {},
     "output_type": "execute_result"
    }
   ],
   "source": [
    "np.zeros(shape=(3,3),dtype='int')"
   ]
  },
  {
   "cell_type": "code",
   "execution_count": 68,
   "id": "8f868a82-0300-47de-90b0-a175cb25adb9",
   "metadata": {},
   "outputs": [
    {
     "data": {
      "text/plain": [
       "array([[0, 0],\n",
       "       [0, 0]])"
      ]
     },
     "execution_count": 68,
     "metadata": {},
     "output_type": "execute_result"
    }
   ],
   "source": [
    "np.zeros_like(square_matrix)"
   ]
  },
  {
   "cell_type": "markdown",
   "id": "ddafc290-a776-4a49-aa01-7a994532b2ca",
   "metadata": {},
   "source": [
    "### 6. Row matrix and Column matrix\n",
    "A matrix with only one row is called **`Row matrix`** (or **`row vector`**) and a matrix with only one column is called a **`Column matrix`** (or **`column vector`**)."
   ]
  },
  {
   "cell_type": "code",
   "execution_count": 95,
   "id": "aec67d57-42a4-4b60-a833-1964d2f861ee",
   "metadata": {},
   "outputs": [],
   "source": [
    "row_matrix=np.array([[1,2,3]])"
   ]
  },
  {
   "cell_type": "code",
   "execution_count": 83,
   "id": "a9403b5c-db97-4da2-8735-4febb5eba468",
   "metadata": {},
   "outputs": [
    {
     "data": {
      "text/plain": [
       "array([[1, 2, 3]])"
      ]
     },
     "execution_count": 83,
     "metadata": {},
     "output_type": "execute_result"
    }
   ],
   "source": [
    "row_matrix"
   ]
  },
  {
   "cell_type": "code",
   "execution_count": 85,
   "id": "975eb188-514b-4601-9b7f-1244503953ab",
   "metadata": {},
   "outputs": [
    {
     "data": {
      "text/plain": [
       "(1, 3)"
      ]
     },
     "execution_count": 85,
     "metadata": {},
     "output_type": "execute_result"
    }
   ],
   "source": [
    "row_matrix.shape"
   ]
  },
  {
   "cell_type": "code",
   "execution_count": 87,
   "id": "4820f379-ff5e-43c3-b54f-f33d288ca034",
   "metadata": {},
   "outputs": [],
   "source": [
    "column_matrix=np.array([[2],[3],[4]])"
   ]
  },
  {
   "cell_type": "code",
   "execution_count": 89,
   "id": "dac239d3-383c-4f2f-bc0a-73499be5fcaf",
   "metadata": {},
   "outputs": [
    {
     "data": {
      "text/plain": [
       "array([[2],\n",
       "       [3],\n",
       "       [4]])"
      ]
     },
     "execution_count": 89,
     "metadata": {},
     "output_type": "execute_result"
    }
   ],
   "source": [
    "column_matrix"
   ]
  },
  {
   "cell_type": "code",
   "execution_count": 91,
   "id": "3ac5509f-33f7-4b16-a5dc-387df8dd317d",
   "metadata": {},
   "outputs": [
    {
     "data": {
      "text/plain": [
       "(3, 1)"
      ]
     },
     "execution_count": 91,
     "metadata": {},
     "output_type": "execute_result"
    }
   ],
   "source": [
    "column_matrix.shape"
   ]
  },
  {
   "cell_type": "markdown",
   "id": "aee11b78-a366-4aa5-bbf5-c0b11fa88e93",
   "metadata": {},
   "source": [
    "### 7. Triangular matrices\n",
    "A square matrix A = [aij] is said to be **`Upper Tringular`** if aij = 0 for all i > j.\n",
    "\n",
    "A is said to be **`Lower Triangular`** if aij=0 for all i < j."
   ]
  },
  {
   "cell_type": "code",
   "execution_count": 99,
   "id": "11705db0-e729-48d0-9e59-621c54cd5ef6",
   "metadata": {},
   "outputs": [],
   "source": [
    "Upper_Triangular_matrix=np.array([[2,3,4],[0,2,4],[0,0,4]])"
   ]
  },
  {
   "cell_type": "code",
   "execution_count": 101,
   "id": "25788a6c-70d1-4555-95f2-0c14c9c44dee",
   "metadata": {},
   "outputs": [
    {
     "data": {
      "text/plain": [
       "array([[2, 3, 4],\n",
       "       [0, 2, 4],\n",
       "       [0, 0, 4]])"
      ]
     },
     "execution_count": 101,
     "metadata": {},
     "output_type": "execute_result"
    }
   ],
   "source": [
    "Upper_Triangular_matrix"
   ]
  },
  {
   "cell_type": "code",
   "execution_count": 103,
   "id": "3c64d931-a0b9-4817-8c34-e3a3ab7f9400",
   "metadata": {},
   "outputs": [],
   "source": [
    "Lower_Triangular_matrix=np.array([[2,0,0],[3,2,0],[2,5,4]])"
   ]
  },
  {
   "cell_type": "code",
   "execution_count": 105,
   "id": "9d4bc977-93ed-41bc-a6bd-a75409f485da",
   "metadata": {},
   "outputs": [
    {
     "data": {
      "text/plain": [
       "array([[2, 0, 0],\n",
       "       [3, 2, 0],\n",
       "       [2, 5, 4]])"
      ]
     },
     "execution_count": 105,
     "metadata": {},
     "output_type": "execute_result"
    }
   ],
   "source": [
    "Lower_Triangular_matrix"
   ]
  },
  {
   "cell_type": "markdown",
   "id": "7194736e-ce18-418f-b056-1009f2ae2a72",
   "metadata": {},
   "source": [
    "#### Definition: Equality of matrices\n",
    "Matrices A and B are said to be equal if A and B are of the same order and the corresponding elements of A and B are same."
   ]
  },
  {
   "cell_type": "raw",
   "id": "3a641744-c01b-4322-9ff7-4b7d366ffed3",
   "metadata": {},
   "source": [
    "# Define matrix A (2x3)\n",
    "A = np.array([[a11, a12, a13],\n",
    "              [a21, a22, a23]]) \n",
    "\n",
    "# Define matrix B (2x3)\n",
    "B = np.array([[b11, b12, b13],  \n",
    "              [b21, b22, b23]]) \n",
    "\n",
    "are equal if aij = bij for i = 1,2 and j = 1,2,3"
   ]
  },
  {
   "cell_type": "markdown",
   "id": "c7ce03da-670b-409e-804c-6d2ac3ed5f7f",
   "metadata": {},
   "source": [
    "### Definition (Sum of two matrices)\n",
    "Let A and B be matrices of the same order. Then the sum of A and B, denoted by A+B. is defined as the matrix of the same order in which each element is the sum of the corresponding elements of A and B.\n",
    "\n",
    "`If A = [aij]mxn and B = [bij]mxn`\n",
    "\n",
    "`then A+B = [cij]mxn where cij = aij + bij`"
   ]
  },
  {
   "cell_type": "code",
   "execution_count": 118,
   "id": "1d04aa84-3825-4c5e-bb7f-8bdf73c9c9a2",
   "metadata": {},
   "outputs": [],
   "source": [
    "A=np.random.randint(1,21,size=(3,3))\n",
    "B=np.random.randint(1,11,size=(3,3))"
   ]
  },
  {
   "cell_type": "code",
   "execution_count": 122,
   "id": "c5b23773-9f1a-424b-a9c9-5a821b692fac",
   "metadata": {},
   "outputs": [
    {
     "data": {
      "text/plain": [
       "array([[10, 16, 10],\n",
       "       [ 6, 20,  6],\n",
       "       [20,  7, 11]])"
      ]
     },
     "execution_count": 122,
     "metadata": {},
     "output_type": "execute_result"
    }
   ],
   "source": [
    "A"
   ]
  },
  {
   "cell_type": "code",
   "execution_count": 124,
   "id": "ccb5d763-816c-4808-aa5f-96789b9a54ce",
   "metadata": {},
   "outputs": [
    {
     "data": {
      "text/plain": [
       "array([[5, 9, 2],\n",
       "       [4, 1, 1],\n",
       "       [1, 2, 2]])"
      ]
     },
     "execution_count": 124,
     "metadata": {},
     "output_type": "execute_result"
    }
   ],
   "source": [
    "B"
   ]
  },
  {
   "cell_type": "code",
   "execution_count": 120,
   "id": "6ae8e9ac-b40d-47cb-8e51-dde641cbbd32",
   "metadata": {},
   "outputs": [
    {
     "data": {
      "text/plain": [
       "array([[15, 25, 12],\n",
       "       [10, 21,  7],\n",
       "       [21,  9, 13]])"
      ]
     },
     "execution_count": 120,
     "metadata": {},
     "output_type": "execute_result"
    }
   ],
   "source": [
    "A+B"
   ]
  },
  {
   "cell_type": "markdown",
   "id": "fe79832e-8e0b-4309-ab1c-7c4a8a17c62f",
   "metadata": {},
   "source": [
    "## Properties of Addition of Matrices"
   ]
  },
  {
   "cell_type": "markdown",
   "id": "b42197cf-1ec5-43f1-a87b-9d1785c1155d",
   "metadata": {},
   "source": [
    "### Commutative Property:\n",
    "The order of addition does not affect the result.  \n",
    "If \\( A \\) and \\( B \\) are matrices of the same size, then:  \n",
    "\\[ \n",
    "A + B = B + A \n",
    "\\]"
   ]
  },
  {
   "cell_type": "code",
   "execution_count": 136,
   "id": "46260eda-dbbd-47b6-856d-010676044a8a",
   "metadata": {},
   "outputs": [
    {
     "name": "stdout",
     "output_type": "stream",
     "text": [
      "Commutative Property (A + B == B + A): True\n"
     ]
    }
   ],
   "source": [
    "# Define matrices A, B, and C\n",
    "A = np.array([[1, 2], \n",
    "              [3, 4]])\n",
    "\n",
    "B = np.array([[5, 6], \n",
    "              [7, 8]])\n",
    "\n",
    "C = np.array([[9, 10], \n",
    "              [11, 12]])\n",
    "\n",
    "# 1. Commutative Property: A + B = B + A\n",
    "commutative = np.array_equal(A + B, B + A)\n",
    "print(\"Commutative Property (A + B == B + A):\", commutative)"
   ]
  },
  {
   "cell_type": "markdown",
   "id": "d110bfbc-0d34-4434-a93b-7f2470c87ecf",
   "metadata": {},
   "source": [
    "## Associative Property:\n",
    "The way in which matrices are grouped during addition does not affect the result.  \n",
    "If \\( A \\), \\( B \\), and \\( C \\) are matrices of the same size, then:  \n",
    "\\[ \n",
    "(A + B) + C = A + (B + C) \n",
    "\\]"
   ]
  },
  {
   "cell_type": "code",
   "execution_count": 138,
   "id": "4c0994b7-1672-4f81-ae01-b65d186a7f17",
   "metadata": {},
   "outputs": [
    {
     "name": "stdout",
     "output_type": "stream",
     "text": [
      "Associative Property ((A + B) + C == A + (B + C)): True\n"
     ]
    }
   ],
   "source": [
    "# 2. Associative Property: (A + B) + C = A + (B + C)\n",
    "associative = np.array_equal((A + B) + C, A + (B + C))\n",
    "print(\"Associative Property ((A + B) + C == A + (B + C)):\", associative)"
   ]
  },
  {
   "cell_type": "markdown",
   "id": "90227618-e3c0-4b2d-a7f2-b30bdf6e2491",
   "metadata": {},
   "source": [
    "## Additive Identity:\n",
    "There exists a zero matrix (matrix with all elements zero) such that adding it to any matrix \\( A \\) yields \\( A \\) itself.  \n",
    "If \\( O \\) is the zero matrix of the same size as \\( A \\), then:  \n",
    "\\[ \n",
    "A + O = A \n",
    "\\]"
   ]
  },
  {
   "cell_type": "code",
   "execution_count": 144,
   "id": "615244d2-f969-4d05-992b-c5ae48fa3f9c",
   "metadata": {
    "scrolled": true
   },
   "outputs": [
    {
     "name": "stdout",
     "output_type": "stream",
     "text": [
      "Additive Identity (A + O == A): True\n"
     ]
    }
   ],
   "source": [
    "# 3. Additive Identity: A + O = A\n",
    "O = np.zeros(A.shape)  # Create a zero matrix of the same size as A\n",
    "additive_identity = np.array_equal(A + O, A)\n",
    "print(\"Additive Identity (A + O == A):\", additive_identity)"
   ]
  },
  {
   "cell_type": "markdown",
   "id": "9fc4e7b8-ac4f-42dd-9100-74df4f8f0205",
   "metadata": {},
   "source": [
    "## Additive Inverse:\n",
    "For every matrix \\( A \\), there exists a matrix \\( -A \\) (the additive inverse) such that when added together, they yield the zero matrix.  \n",
    "That is,  \n",
    "\\[ \n",
    "A + (-A) = O \n",
    "\\]"
   ]
  },
  {
   "cell_type": "code",
   "execution_count": 146,
   "id": "e1f733da-e5b9-4444-91cd-7e29f37869df",
   "metadata": {},
   "outputs": [
    {
     "name": "stdout",
     "output_type": "stream",
     "text": [
      "Additive Inverse (A + (-A) == O): True\n"
     ]
    }
   ],
   "source": [
    "# 4. Additive Inverse: A + (-A) = O\n",
    "additive_inverse = np.array_equal(A + (-A), O)\n",
    "print(\"Additive Inverse (A + (-A) == O):\", additive_inverse)"
   ]
  },
  {
   "cell_type": "code",
   "execution_count": null,
   "id": "714d038b-5616-4b5d-8aa2-9b86868660bc",
   "metadata": {},
   "outputs": [],
   "source": []
  }
 ],
 "metadata": {
  "kernelspec": {
   "display_name": "Python 3 (ipykernel)",
   "language": "python",
   "name": "python3"
  },
  "language_info": {
   "codemirror_mode": {
    "name": "ipython",
    "version": 3
   },
   "file_extension": ".py",
   "mimetype": "text/x-python",
   "name": "python",
   "nbconvert_exporter": "python",
   "pygments_lexer": "ipython3",
   "version": "3.11.7"
  }
 },
 "nbformat": 4,
 "nbformat_minor": 5
}
